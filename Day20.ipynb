{
 "cells": [
  {
   "cell_type": "code",
   "execution_count": 1,
   "metadata": {},
   "outputs": [
    {
     "data": {
      "text/plain": [
       "testme (generic function with 1 method)"
      ]
     },
     "execution_count": 1,
     "metadata": {},
     "output_type": "execute_result"
    }
   ],
   "source": [
    "# Create an area map that contains a grid of ?'s and the position\n",
    "function make_area_map(n)\n",
    "    grid = fill('?', n, n)\n",
    "    ctr = n ÷ 2\n",
    "    pos = [ctr, ctr]\n",
    "    (pos = pos, grid = grid)\n",
    "end\n",
    "\n",
    "# Visualize the area map.\n",
    "# Show current position with X.\n",
    "# Display # instead of ? when `show_wall` is true.\n",
    "function visualize(amap; show_walls = true)\n",
    "    for y in 1:size(amap.grid,1)\n",
    "        for x in 1:size(amap.grid, 2)\n",
    "            let c = amap.grid[y,x]\n",
    "                if x == amap.pos[1] && y == amap.pos[2]\n",
    "                    print('X')\n",
    "                else\n",
    "                    print(c == '?' && show_walls ? '#' : c)\n",
    "                end\n",
    "            end\n",
    "        end\n",
    "        println()\n",
    "    end\n",
    "end\n",
    "\n",
    "# Move one step in a specific direction - 'N', 'S', 'E', or 'W'\n",
    "# Mark the crossover position with either '-' or '|'\n",
    "# Update current position in the map\n",
    "function move!(amap, dir::Char)\n",
    "    x, y = amap.pos\n",
    "    let grid = amap.grid\n",
    "        grid[y, x] = '.'   # mark current pos\n",
    "        if dir == 'N'\n",
    "            grid[y-1, x] = '-'\n",
    "            amap.pos[2] = y-2\n",
    "        elseif dir == 'S'\n",
    "            grid[y+1, x] = '-'\n",
    "            amap.pos[2] = y+2\n",
    "        elseif dir == 'W'\n",
    "            grid[y, x-1] = '|'\n",
    "            amap.pos[1] = x-2\n",
    "        else  # East\n",
    "            grid[y, x+1] = '|'\n",
    "            amap.pos[1] = x+2\n",
    "        end\n",
    "    end\n",
    "end\n",
    "\n",
    "# Teleport to another position\n",
    "function teleport!(amap, pos)\n",
    "    x, y = amap.pos\n",
    "    amap.grid[y,x] = '.'  # mark current pos\n",
    "    amap.pos[:] = pos[:]\n",
    "end\n",
    "\n",
    "# Move according to the regex instruction\n",
    "# The starting position is passed as `origx` and `origy`.\n",
    "# Keep track of the current `level` as it's a recursive function.\n",
    "function move!(amap, guide::String, origx, origy, level = 0; debug = false)\n",
    "    debug && println(\"==> level=\", level, \" guide=\", guide, \" orig=(\", origx, \",\", origy, \")\")\n",
    "    i = 1\n",
    "    while i <= length(guide)\n",
    "        c = guide[i]\n",
    "        if c == '('   # recursion starts here; advance to ')'\n",
    "            amap, state = move!(amap, guide[i+1:end], amap.pos[1], amap.pos[2], level + 1)\n",
    "            i += state\n",
    "        elseif c == ')'  # returns to caller \n",
    "            break\n",
    "        elseif c == '|'  # teleport back to the position when recursion began\n",
    "            debug && println(\"==> level=\", level, \" teleporting to (\", origx, \",\", origy, \")\")\n",
    "            teleport!(amap, [origx, origy])\n",
    "        else  # move one step when processing normal direction char\n",
    "            move!(amap, c)\n",
    "        end\n",
    "        i += 1\n",
    "    end\n",
    "    (amap, i)\n",
    "end\n",
    "\n",
    "# the furthest path can be found from enumerating the next\n",
    "# possible step and from that next step recursively do the \n",
    "# same calculation.  Need to make sure that a room that\n",
    "# has been visited before is not considered again to avoid\n",
    "# infinite loop.\n",
    "function furthest_path(amap, x, y, distance = 0, visited = [], level = 0)\n",
    "    next_steps = possible_next_steps(amap, x, y, visited, level)\n",
    "    if length(next_steps) > 0\n",
    "        maximum(furthest_path(amap, s.x, s.y, distance + 1, [visited; s], level + 1) \n",
    "            for s ∈ next_steps)\n",
    "    else\n",
    "#         println(level, \": distance=\", distance, \", x=\", x, \", y=\", y, \", visited=\", visited)\n",
    "        distance\n",
    "    end\n",
    "end\n",
    "    \n",
    "function possible_next_steps(amap, x, y, visited, level)\n",
    "    next_steps = []\n",
    "    let pos = (x = x, y = y - 2), pass = (x = x, y = y - 1)\n",
    "        amap.grid[pos.y, pos.x] == '.' && amap.grid[pass.y, pass.x] == '-' && \n",
    "        !in(pos, visited) && push!(next_steps, pos)\n",
    "    end\n",
    "    let pos = (x = x, y = y + 2), pass = (x = x, y = y + 1)\n",
    "        amap.grid[pos.y, pos.x] == '.' && amap.grid[pass.y, pass.x] == '-' && \n",
    "        !in(pos, visited) && push!(next_steps, pos)\n",
    "    end\n",
    "    let pos = (x = x - 2, y = y), pass = (x = x - 1, y = y)\n",
    "        amap.grid[pos.y, pos.x] == '.' && amap.grid[pass.y, pass.x] == '|' && \n",
    "        !in(pos, visited) && push!(next_steps, pos)\n",
    "    end\n",
    "    let pos = (x = x + 2, y = y), pass = (x = x + 1, y = y)\n",
    "        amap.grid[pos.y, pos.x] == '.' && amap.grid[pass.y, pass.x] == '|' && \n",
    "        !in(pos, visited) && push!(next_steps, pos)\n",
    "    end\n",
    "#     println(\"At (\", x, \",\", y, \") possible next steps=\", next_steps)\n",
    "    next_steps\n",
    "end\n",
    "\n",
    "\n",
    "function testme(s, n; display = true)\n",
    "    amap = make_area_map(n)\n",
    "    home = copy(amap.pos)\n",
    "    move!(amap, s, home[1], home[2])\n",
    "    teleport!(amap, home)\n",
    "    display && visualize(amap)\n",
    "    furthest_path(amap, home[1], home[2])\n",
    "end"
   ]
  },
  {
   "cell_type": "code",
   "execution_count": 2,
   "metadata": {},
   "outputs": [
    {
     "name": "stdout",
     "output_type": "stream",
     "text": [
      "###############\n",
      "###############\n",
      "##.|.|.|.######\n",
      "##-############\n",
      "##.|.|.|.######\n",
      "##-#####-######\n",
      "##.#.#X|.######\n",
      "##-#-##########\n",
      "##.|.|.|.######\n",
      "###############\n",
      "###############\n",
      "###############\n",
      "###############\n",
      "###############\n",
      "###############\n"
     ]
    },
    {
     "data": {
      "text/plain": [
       "10"
      ]
     },
     "execution_count": 2,
     "metadata": {},
     "output_type": "execute_result"
    }
   ],
   "source": [
    "testme(\"ENWWW(NEEE|SSE(EE|N))\", 15)"
   ]
  },
  {
   "cell_type": "code",
   "execution_count": 3,
   "metadata": {},
   "outputs": [
    {
     "name": "stdout",
     "output_type": "stream",
     "text": [
      "####################\n",
      "####################\n",
      "####################\n",
      "###.|.|.|.|.|.######\n",
      "###-#####-###-######\n",
      "###.#.|.#.#.#.######\n",
      "###-#-###-#-#-######\n",
      "###.#.#.|.#.|.######\n",
      "###-#-#-#####-######\n",
      "###.#.#.#X|.#.######\n",
      "###-#-#-###-#-######\n",
      "###.|.#.|.#.#.######\n",
      "#####-#-###-#-######\n",
      "###.|.#.|.|.#.######\n",
      "####################\n",
      "####################\n",
      "####################\n",
      "####################\n",
      "####################\n",
      "####################\n"
     ]
    },
    {
     "data": {
      "text/plain": [
       "23"
      ]
     },
     "execution_count": 3,
     "metadata": {},
     "output_type": "execute_result"
    }
   ],
   "source": [
    "testme(\"ESSWWN(E|NNENN(EESS(WNSE|)SSS|WWWSSSSE(SW|NNNE)))\", 20)"
   ]
  },
  {
   "cell_type": "code",
   "execution_count": 4,
   "metadata": {},
   "outputs": [
    {
     "name": "stdout",
     "output_type": "stream",
     "text": [
      "##############################\n",
      "##############################\n",
      "##############################\n",
      "##############################\n",
      "##############################\n",
      "##############################\n",
      "##############################\n",
      "##############################\n",
      "########.|.|.|.#.|.|.#########\n",
      "########-###-###-#-#-#########\n",
      "########.|.#.|.|.#.#.#########\n",
      "########-#########-#-#########\n",
      "########.#.|.|.|.|.#.#########\n",
      "########-#-#########-#########\n",
      "########.#.#.|X#.|.#.#########\n",
      "##########-#-###-#-#-#########\n",
      "########.|.#.#.|.#.|.#########\n",
      "########-###-#####-###########\n",
      "########.|.#.|.|.#.#.#########\n",
      "########-#-#####-#-#-#########\n",
      "########.#.|.|.|.#.|.#########\n",
      "##############################\n",
      "##############################\n",
      "##############################\n",
      "##############################\n",
      "##############################\n",
      "##############################\n",
      "##############################\n",
      "##############################\n",
      "##############################\n"
     ]
    },
    {
     "data": {
      "text/plain": [
       "31"
      ]
     },
     "execution_count": 4,
     "metadata": {},
     "output_type": "execute_result"
    }
   ],
   "source": [
    "testme(\"WSSEESWWWNW(S|NENNEEEENN(ESSSSW(NWSW|SSEN)|WSWWN(E|WWS(E|SS))))\", 30)"
   ]
  },
  {
   "cell_type": "code",
   "execution_count": 5,
   "metadata": {},
   "outputs": [
    {
     "data": {
      "text/plain": [
       "3966"
      ]
     },
     "execution_count": 5,
     "metadata": {},
     "output_type": "execute_result"
    }
   ],
   "source": [
    "testme(readline(\"input20.txt\")[2:end-1], 1000, display = false)"
   ]
  },
  {
   "cell_type": "code",
   "execution_count": 7,
   "metadata": {},
   "outputs": [
    {
     "name": "stdout",
     "output_type": "stream",
     "text": [
      "##############################\n",
      "##############################\n",
      "##############################\n",
      "##############################\n",
      "##############################\n",
      "##############################\n",
      "##############################\n",
      "##############################\n",
      "########.|.|.|.#.|.|.#########\n",
      "########-###-###-#-#-#########\n",
      "########.|.#.|.|.#.#.#########\n",
      "########-#########-#-#########\n",
      "########.#.|.|.|.|.#.#########\n",
      "########-#-#########-#########\n",
      "########.#.#.|X#.|.#.#########\n",
      "##########-#-###-#-#-#########\n",
      "########.|.#.#.|.#.|.#########\n",
      "########-###-#####-###########\n",
      "########.|.#.|.|.#.#.#########\n",
      "########-#-#####-#-#-#########\n",
      "########.#.|.|.|.#.|.#########\n",
      "##############################\n",
      "##############################\n",
      "##############################\n",
      "##############################\n",
      "##############################\n",
      "##############################\n",
      "##############################\n",
      "##############################\n",
      "##############################\n",
      "reachable = length(reachable_rooms(amap, home[1], home[2], within)) = 14\n",
      "rooms = total_rooms(amap) = 49\n"
     ]
    },
    {
     "data": {
      "text/plain": [
       "35"
      ]
     },
     "execution_count": 7,
     "metadata": {},
     "output_type": "execute_result"
    }
   ],
   "source": [
    "# part 2 -- return cells that are reachable within a distance \n",
    "function reachable_rooms(amap, x, y, within, distance = 0, visited = [], level = 0)\n",
    "    distance >= within && return visited   # stop traversing\n",
    "    next_steps = possible_next_steps(amap, x, y, visited, level)\n",
    "    if length(next_steps) > 0\n",
    "        visited_array = [reachable_rooms(amap, s.x, s.y, within, \n",
    "                distance + 1, [visited; s], level + 1) \n",
    "            for s ∈ next_steps]\n",
    "        union(visited_array...)\n",
    "    else\n",
    "        visited\n",
    "    end\n",
    "end\n",
    "\n",
    "function total_rooms(amap)\n",
    "    count(x -> x == '.', amap.grid)\n",
    "end\n",
    "\n",
    "function testme2(s, n, within; display = true)\n",
    "    amap = make_area_map(n)\n",
    "    home = copy(amap.pos)\n",
    "    move!(amap, s, home[1], home[2])\n",
    "    teleport!(amap, home)\n",
    "    display && visualize(amap)\n",
    "    @show reachable = length(reachable_rooms(amap, home[1], home[2], within))\n",
    "    @show rooms = total_rooms(amap)\n",
    "    rooms - reachable\n",
    "end\n",
    "\n",
    "testme2(\"WSSEESWWWNW(S|NENNEEEENN(ESSSSW(NWSW|SSEN)|WSWWN(E|WWS(E|SS))))\", 30, 12)"
   ]
  },
  {
   "cell_type": "code",
   "execution_count": 8,
   "metadata": {},
   "outputs": [
    {
     "name": "stdout",
     "output_type": "stream",
     "text": [
      "reachable = length(reachable_rooms(amap, home[1], home[2], within)) = 1827\n",
      "rooms = total_rooms(amap) = 10000\n"
     ]
    },
    {
     "data": {
      "text/plain": [
       "8173"
      ]
     },
     "execution_count": 8,
     "metadata": {},
     "output_type": "execute_result"
    }
   ],
   "source": [
    "testme2(readline(\"input20.txt\")[2:end-1], 1000, 999, display = false)"
   ]
  }
 ],
 "metadata": {
  "kernelspec": {
   "display_name": "Julia 1.0.1",
   "language": "julia",
   "name": "julia-1.0"
  },
  "language_info": {
   "file_extension": ".jl",
   "mimetype": "application/julia",
   "name": "julia",
   "version": "1.0.1"
  }
 },
 "nbformat": 4,
 "nbformat_minor": 2
}
