{
 "cells": [
  {
   "cell_type": "code",
   "execution_count": 1,
   "metadata": {},
   "outputs": [],
   "source": [
    "mutable struct Node{T} \n",
    "    data::Union{T, Nothing}\n",
    "    prev::Union{Node{T}, Nothing}\n",
    "    next::Union{Node{T}, Nothing}\n",
    "end\n",
    "\n",
    "mutable struct Buffer\n",
    "    nodes::Vector{Node}\n",
    "    length::Int\n",
    "    current::Node\n",
    "end"
   ]
  },
  {
   "cell_type": "code",
   "execution_count": 2,
   "metadata": {},
   "outputs": [],
   "source": [
    "import Base: insert!, delete!, length\n",
    "\n",
    "function circlist(data::T; capacity = 100) where T\n",
    "    nodes = [Node{T}(nothing, nothing, nothing) for _ in 1:capacity]\n",
    "    n = nodes[1]\n",
    "    n.data = data\n",
    "    n.prev = n\n",
    "    n.next = n\n",
    "    return Buffer(nodes, 1, n)\n",
    "end\n",
    "\n",
    "function allocate!(buf::Buffer)\n",
    "    buf.length += 1\n",
    "    return buf.nodes[buf.length]\n",
    "end\n",
    "\n",
    "# insert a new node after the current node, returns new node\n",
    "function insert!(buf::Buffer, data) \n",
    "    cl = buf.current\n",
    "    \n",
    "    n = allocate!(buf)  # make a new node and arrange prev/next pointers\n",
    "    n.data = data\n",
    "    n.prev = cl\n",
    "    n.next = cl.next\n",
    "\n",
    "    cl.next = n         # fix prev node's next pointer\n",
    "    n.next.prev = n     # fix next node's prev pointer\n",
    "    \n",
    "    buf.current = n     # move pointer to newly inserted node\n",
    "    return buf\n",
    "end\n",
    "\n",
    "# delete current node, returns previous node\n",
    "# warning: removed nodes are not reclaimed from memory for simplicity reasons\n",
    "function delete!(buf::Buffer)\n",
    "    cl = buf.current\n",
    "    cl.prev.next = cl.next   # fix prev node's next pointer\n",
    "    cl.next.prev = cl.prev   # fix next node's prev pointer\n",
    "    buf.current = cl.prev    # reset buffer's current pointer to prev\n",
    "    return buf\n",
    "end\n",
    "\n",
    "# navigate forward/backward in the circular list\n",
    "function shift!(buf::Buffer, steps::Int, direction::Symbol)\n",
    "    for i in 1:steps\n",
    "        if direction == :forward \n",
    "            buf.current = buf.current.next\n",
    "        elseif direction == :backward\n",
    "            buf.current = buf.current.prev\n",
    "        end\n",
    "    end\n",
    "    return buf\n",
    "end\n",
    "\n",
    "forward!(buf::Buffer) = shift!(buf, 1, :forward)\n",
    "backward!(buf::Buffer) = shift!(buf, 1, :backward)\n",
    ";"
   ]
  },
  {
   "cell_type": "code",
   "execution_count": 3,
   "metadata": {},
   "outputs": [
    {
     "name": "stdout",
     "output_type": "stream",
     "text": [
      "  0.254985 seconds (377.76 k allocations: 11.934 MiB, 2.89% gc time)\n"
     ]
    },
    {
     "data": {
      "text/plain": [
       "(scores = [375685, 302467, 327051, 314203, 345826, 347920, 378222, 306633, 289693, 318892  …  305662, 335382, 305703, 359932, 371519, 389490, 307795, 293451, 318929, 338933], highest = 404611, num_players = 431, last_marble = 70950)"
      ]
     },
     "execution_count": 3,
     "metadata": {},
     "output_type": "execute_result"
    }
   ],
   "source": [
    "using Dates, Test\n",
    "\n",
    "function play(num_players, last_marble; chunk = 100_000)\n",
    "    leaderboard = fill(0, num_players)\n",
    "    game = curr_marble = circlist(0, capacity = last_marble)\n",
    "    marble = 0\n",
    "    while marble < last_marble\n",
    "        marble += 1\n",
    "        marble % chunk == 0 && (println(Dates.now(), \": marble $marble processed\"), flush(stdout))\n",
    "        if marble % 23 == 0\n",
    "            player = (marble % num_players) + 1\n",
    "            leaderboard[player] += marble   # win current marble\n",
    "            curr_marble = shift!(curr_marble, 7, :backward)\n",
    "            leaderboard[player] += curr_marble.current.data  # win the other marble\n",
    "            curr_marble = delete!(curr_marble)\n",
    "            curr_marble = forward!(curr_marble)\n",
    "        else\n",
    "            curr_marble = forward!(curr_marble)\n",
    "            curr_marble = insert!(curr_marble, marble)\n",
    "        end\n",
    "    end\n",
    "    return (scores = leaderboard, \n",
    "        highest = maximum(leaderboard),\n",
    "        num_players = num_players,\n",
    "        last_marble = last_marble\n",
    "        )\n",
    "end\n",
    "\n",
    "@test play(9, 25).highest == 32\n",
    "@test play(10, 1618).highest == 8317\n",
    "@time play(431, 70950)"
   ]
  },
  {
   "cell_type": "code",
   "execution_count": 4,
   "metadata": {},
   "outputs": [
    {
     "name": "stdout",
     "output_type": "stream",
     "text": [
      "2018-12-09T02:28:23.277: marble 100000 processed\n",
      "2018-12-09T02:28:23.663: marble 200000 processed\n",
      "2018-12-09T02:28:23.943: marble 300000 processed\n",
      "2018-12-09T02:28:24.223: marble 400000 processed\n",
      "2018-12-09T02:28:24.506: marble 500000 processed\n",
      "2018-12-09T02:28:25.587: marble 600000 processed\n",
      "2018-12-09T02:28:25.869: marble 700000 processed\n",
      "2018-12-09T02:28:26.139: marble 800000 processed\n",
      "2018-12-09T02:28:26.409: marble 900000 processed\n",
      "2018-12-09T02:28:26.678: marble 1000000 processed\n",
      "2018-12-09T02:28:26.949: marble 1100000 processed\n",
      "2018-12-09T02:28:27.285: marble 1200000 processed\n",
      "2018-12-09T02:28:27.662: marble 1300000 processed\n",
      "2018-12-09T02:28:27.976: marble 1400000 processed\n",
      "2018-12-09T02:28:28.258: marble 1500000 processed\n",
      "2018-12-09T02:28:28.562: marble 1600000 processed\n",
      "2018-12-09T02:28:28.863: marble 1700000 processed\n",
      "2018-12-09T02:28:29.15: marble 1800000 processed\n",
      "2018-12-09T02:28:29.461: marble 1900000 processed\n",
      "2018-12-09T02:28:29.745: marble 2000000 processed\n",
      "2018-12-09T02:28:30.029: marble 2100000 processed\n",
      "2018-12-09T02:28:30.316: marble 2200000 processed\n",
      "2018-12-09T02:28:30.604: marble 2300000 processed\n",
      "2018-12-09T02:28:31.019: marble 2400000 processed\n",
      "2018-12-09T02:28:31.48: marble 2500000 processed\n",
      "2018-12-09T02:28:31.889: marble 2600000 processed\n",
      "2018-12-09T02:28:32.22: marble 2700000 processed\n",
      "2018-12-09T02:28:32.573: marble 2800000 processed\n",
      "2018-12-09T02:28:32.918: marble 2900000 processed\n",
      "2018-12-09T02:28:33.262: marble 3000000 processed\n",
      "2018-12-09T02:28:33.563: marble 3100000 processed\n",
      "2018-12-09T02:28:33.859: marble 3200000 processed\n",
      "2018-12-09T02:28:34.15: marble 3300000 processed\n",
      "2018-12-09T02:28:34.431: marble 3400000 processed\n",
      "2018-12-09T02:28:34.725: marble 3500000 processed\n",
      "2018-12-09T02:28:35.018: marble 3600000 processed\n",
      "2018-12-09T02:28:35.319: marble 3700000 processed\n",
      "2018-12-09T02:28:35.634: marble 3800000 processed\n",
      "2018-12-09T02:28:35.94: marble 3900000 processed\n",
      "2018-12-09T02:28:36.269: marble 4000000 processed\n",
      "2018-12-09T02:28:36.556: marble 4100000 processed\n",
      "2018-12-09T02:28:36.864: marble 4200000 processed\n",
      "2018-12-09T02:28:37.148: marble 4300000 processed\n",
      "2018-12-09T02:28:37.44: marble 4400000 processed\n",
      "2018-12-09T02:28:37.886: marble 4500000 processed\n",
      "2018-12-09T02:28:38.232: marble 4600000 processed\n",
      "2018-12-09T02:28:38.615: marble 4700000 processed\n",
      "2018-12-09T02:28:39.148: marble 4800000 processed\n",
      "2018-12-09T02:28:39.636: marble 4900000 processed\n",
      "2018-12-09T02:28:40.054: marble 5000000 processed\n",
      "2018-12-09T02:28:40.376: marble 5100000 processed\n",
      "2018-12-09T02:28:40.697: marble 5200000 processed\n",
      "2018-12-09T02:28:41.075: marble 5300000 processed\n",
      "2018-12-09T02:28:41.403: marble 5400000 processed\n",
      "2018-12-09T02:28:41.74: marble 5500000 processed\n",
      "2018-12-09T02:28:42.111: marble 5600000 processed\n",
      "2018-12-09T02:28:42.431: marble 5700000 processed\n",
      "2018-12-09T02:28:42.753: marble 5800000 processed\n",
      "2018-12-09T02:28:43.07: marble 5900000 processed\n",
      "2018-12-09T02:28:43.388: marble 6000000 processed\n",
      "2018-12-09T02:28:43.681: marble 6100000 processed\n",
      "2018-12-09T02:28:43.975: marble 6200000 processed\n",
      "2018-12-09T02:28:44.273: marble 6300000 processed\n",
      "2018-12-09T02:28:44.587: marble 6400000 processed\n",
      "2018-12-09T02:28:44.974: marble 6500000 processed\n",
      "2018-12-09T02:28:45.306: marble 6600000 processed\n",
      "2018-12-09T02:28:45.603: marble 6700000 processed\n",
      "2018-12-09T02:28:45.898: marble 6800000 processed\n",
      "2018-12-09T02:28:46.206: marble 6900000 processed\n",
      "2018-12-09T02:28:48.095: marble 7000000 processed\n",
      " 26.532235 seconds (38.15 M allocations: 1.177 GiB, 10.76% gc time)\n"
     ]
    },
    {
     "data": {
      "text/plain": [
       "(scores = [3329318022, 3338084362, 3341579397, 3336818909, 3347592587, 3340225602, 3338953147, 3343797117, 3340419992, 3340629970  …  3325297181, 3324569457, 3319641009, 3310406271, 3312373465, 3320100167, 3324828503, 3324005306, 3331266930, 3321826335], highest = 3350093681, num_players = 431, last_marble = 7095000)"
      ]
     },
     "execution_count": 4,
     "metadata": {},
     "output_type": "execute_result"
    }
   ],
   "source": [
    "@time play(431, 7095000)"
   ]
  }
 ],
 "metadata": {
  "kernelspec": {
   "display_name": "Julia 1.0.1",
   "language": "julia",
   "name": "julia-1.0"
  },
  "language_info": {
   "file_extension": ".jl",
   "mimetype": "application/julia",
   "name": "julia",
   "version": "1.0.1"
  }
 },
 "nbformat": 4,
 "nbformat_minor": 2
}
