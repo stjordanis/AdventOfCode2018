{
 "cells": [
  {
   "cell_type": "code",
   "execution_count": 89,
   "metadata": {},
   "outputs": [
    {
     "name": "stdout",
     "output_type": "stream",
     "text": [
      "fast forwarded 10871 frames\n"
     ]
    },
    {
     "name": "stderr",
     "output_type": "stream",
     "text": [
      "┌ Info: Saved animation to \n",
      "│   fn = /Users/tomkwong/Library/Mobile Documents/com~apple~CloudDocs/Programming/Julia/AdventOfCode2018/Day10_anim.gif\n",
      "└ @ Plots /Users/tomkwong/.julia/packages/Plots/rmogG/src/animation.jl:90\n"
     ]
    },
    {
     "data": {
      "text/html": [
       "<img src=\"Day10_anim.gif?0.3362225913099217>\" />"
      ],
      "text/plain": [
       "Plots.AnimatedGif(\"/Users/tomkwong/Library/Mobile Documents/com~apple~CloudDocs/Programming/Julia/AdventOfCode2018/Day10_anim.gif\")"
      ]
     },
     "execution_count": 89,
     "metadata": {},
     "output_type": "execute_result"
    }
   ],
   "source": [
    "using Plots\n",
    "\n",
    "# move 1 frame\n",
    "move!(pos, vel) = pos[:,:] += vel[:,:]\n",
    "\n",
    "# read input\n",
    "C = [match(r\"position=<(.+), (.+)> velocity=<(.+), (.+)>\", L) for L in readlines(\"input10.txt\")]\n",
    "pos = [[parse(Int, x.captures[1]) for x in C] [parse(Int, x.captures[2]) for x in C]]\n",
    "vel = [[parse(Int, x.captures[3]) for x in C] [parse(Int, x.captures[4]) for x in C]]\n",
    "\n",
    "# skip initial frames \n",
    "cnt = 0\n",
    "while pos[1,1] > 250   #250 is arbitrary\n",
    "    move!(pos, vel)\n",
    "    cnt += 1\n",
    "end\n",
    "println(\"fast forwarded $cnt frames\")\n",
    "\n",
    "# Create animated GIF\n",
    "anim = @animate for i=1:30\n",
    "    move!(pos, vel)\n",
    "    scatter(pos[:,1], [-x for x in pos[:,2]], # flipped y coordinates\n",
    "        xlims = (150, 240), \n",
    "        ylims = (-150, -90), \n",
    "        title = \"frame $i\",\n",
    "        legend = false)\n",
    "end\n",
    "gif(anim, \"Day10_anim.gif\", fps = 1)"
   ]
  }
 ],
 "metadata": {
  "kernelspec": {
   "display_name": "Julia 1.0.1",
   "language": "julia",
   "name": "julia-1.0"
  },
  "language_info": {
   "file_extension": ".jl",
   "mimetype": "application/julia",
   "name": "julia",
   "version": "1.0.1"
  }
 },
 "nbformat": 4,
 "nbformat_minor": 2
}
