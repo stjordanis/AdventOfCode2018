{
 "cells": [
  {
   "cell_type": "code",
   "execution_count": 1,
   "metadata": {},
   "outputs": [
    {
     "name": "stdout",
     "output_type": "stream",
     "text": [
      ".#.#...|#.\n",
      ".....#|##|\n",
      ".|..|...#.\n",
      "..|#.....#\n",
      "#.#|||#|#|\n",
      "...#.||...\n",
      ".|....|...\n",
      "||...#|.#|\n",
      "|.||||..|.\n",
      "...#.|..|.\n",
      "\n",
      "1147\n",
      ".#.#...|#.\n",
      ".....#|##|\n",
      ".|..|...#.\n",
      "..|#.....#\n",
      "#.#|||#|#|\n",
      "...#.||...\n",
      ".|....|...\n",
      "||...#|.#|\n",
      "|.||||..|.\n",
      "...#.|..|.\n"
     ]
    }
   ],
   "source": [
    "using StatsBase\n",
    "\n",
    "const xopen = 1\n",
    "const xtree = 2\n",
    "const xlumb = 3\n",
    "\n",
    "function readfile(filename)\n",
    "    lines = readlines(filename)\n",
    "    hcat([collect(line) for line in lines]...) |> permutedims\n",
    "end\n",
    "\n",
    "function visualize(area)\n",
    "    foreach(row -> println(join(A[row,:])), 1:size(A,1))\n",
    "    area\n",
    "end\n",
    "\n",
    "function incr!(area, cnt, x, y)\n",
    "    if area[y,x] == '.'\n",
    "        cnt[xopen] += 1\n",
    "    elseif area[y,x] == '|'\n",
    "        cnt[xtree] += 1\n",
    "    else # lumber\n",
    "        cnt[xlumb] += 1\n",
    "    end\n",
    "end\n",
    "\n",
    "function countadj!(x, y, w, h, area, cnt)\n",
    "    x-1 > 0 && y-1 > 0 &&   incr!(area, cnt, x-1, y-1)\n",
    "    x-1 > 0 &&              incr!(area, cnt, x-1, y)\n",
    "    x-1 > 0 && y+1 <= h &&  incr!(area, cnt, x-1, y+1)\n",
    "    y-1 > 0 &&              incr!(area, cnt, x,   y-1)\n",
    "    y+1 <= h &&             incr!(area, cnt, x,   y+1)\n",
    "    x+1 <= w && y-1 > 0 &&  incr!(area, cnt, x+1, y-1)\n",
    "    x+1 <= w &&             incr!(area, cnt, x+1, y) \n",
    "    x+1 <= w && y+1 <= h && incr!(area, cnt, x+1, y+1)\n",
    "end\n",
    "\n",
    "function generate!(src, dst, w, h)\n",
    "    cnt = fill(0, 3)\n",
    "    for x = 1:w, y = 1:h\n",
    "        cnt[xopen] = cnt[xtree] = cnt[xlumb] = 0\n",
    "        countadj!(x, y, w, h, src, cnt)\n",
    "        dst[y, x] = src[y, x]\n",
    "        if src[y, x] == '.'\n",
    "            cnt[xtree] >= 3 && (dst[y, x] = '|')\n",
    "        elseif src[y, x] == '|'\n",
    "            cnt[xlumb] >= 3 && (dst[y, x] = '#')\n",
    "        elseif src[y, x] == '#'\n",
    "            !(cnt[xlumb] >=1 && cnt[xtree] >= 1) && (dst[y, x] = '.')\n",
    "        end\n",
    "    end\n",
    "end\n",
    "\n",
    "function valueof2(A, n)\n",
    "    h, w = size(A)\n",
    "    B = copy(A)\n",
    "    A = copy(A)\n",
    "    for i in 1:n\n",
    "        if isodd(i) \n",
    "            generate!(A, B, w, h)\n",
    "        else\n",
    "            generate!(B, A, w, h)\n",
    "        end\n",
    "    end\n",
    "    C = isodd(n) ? B : A\n",
    "    s = C |> countmap\n",
    "    (value = s['#'] * s['|'], area = C)\n",
    "end\n",
    "\n",
    "A = readfile(\"input18_sample.txt\") \n",
    "A |> visualize \n",
    "v = valueof2(A, 10)\n",
    "println()\n",
    "println(v.value)\n",
    "v.area |> visualize\n",
    ";"
   ]
  },
  {
   "cell_type": "code",
   "execution_count": 2,
   "metadata": {},
   "outputs": [
    {
     "name": "stdout",
     "output_type": "stream",
     "text": [
      "  0.000076 seconds (21 allocations: 2.875 KiB)\n",
      "  0.000058 seconds (21 allocations: 2.875 KiB)\n",
      "  0.000055 seconds (21 allocations: 2.875 KiB)\n",
      "  0.000054 seconds (21 allocations: 2.875 KiB)\n",
      "  0.000055 seconds (21 allocations: 2.875 KiB)\n"
     ]
    },
    {
     "data": {
      "text/plain": [
       "(value = 1147, area = ['.' '|' … '.' '.'; '|' '|' … '.' '.'; … ; '|' '|' … '|' '|'; '|' '|' … '|' '|'])"
      ]
     },
     "execution_count": 2,
     "metadata": {},
     "output_type": "execute_result"
    }
   ],
   "source": [
    "A = readfile(\"input18_sample.txt\") \n",
    "@time valueof2(A, 10)\n",
    "@time valueof2(A, 10)\n",
    "@time valueof2(A, 10)\n",
    "@time valueof2(A, 10)\n",
    "@time valueof2(A, 10)"
   ]
  },
  {
   "cell_type": "code",
   "execution_count": 3,
   "metadata": {},
   "outputs": [
    {
     "name": "stdout",
     "output_type": "stream",
     "text": [
      "  0.000080 seconds (21 allocations: 2.875 KiB)\n",
      "  0.000136 seconds (21 allocations: 2.875 KiB)\n",
      "  0.000057 seconds (21 allocations: 2.875 KiB)\n"
     ]
    },
    {
     "data": {
      "text/plain": [
       "(value = 1147, area = ['.' '|' … '.' '.'; '|' '|' … '.' '.'; … ; '|' '|' … '|' '|'; '|' '|' … '|' '|'])"
      ]
     },
     "execution_count": 3,
     "metadata": {},
     "output_type": "execute_result"
    }
   ],
   "source": [
    "A = readfile(\"input18_sample.txt\") \n",
    "@time valueof2(A, 10)\n",
    "\n",
    "A = readfile(\"input18_sample.txt\") \n",
    "@time valueof2(A, 10)\n",
    "\n",
    "A = readfile(\"input18_sample.txt\") \n",
    "@time valueof2(A, 10)\n"
   ]
  },
  {
   "cell_type": "code",
   "execution_count": 4,
   "metadata": {},
   "outputs": [
    {
     "name": "stdout",
     "output_type": "stream",
     "text": [
      "1000==> 177004\n",
      "2000==> 219240\n",
      "3000==> 205120\n",
      "4000==> 166753\n",
      "5000==> 194370\n",
      "6000==> 223401\n",
      "7000==> 193434\n",
      "8000==> 177004\n",
      "9000==> 219240\n",
      "10000==> 205120\n"
     ]
    }
   ],
   "source": [
    "# Part 2.\n",
    "# Look for pattern\n",
    "orig = readfile(\"input18.txt\")\n",
    "for n in 1000:1000:10000\n",
    "    A = copy(orig)\n",
    "    v = valueof2(A, n)\n",
    "    println(n, \"==> \", v.value)\n",
    "end"
   ]
  },
  {
   "cell_type": "code",
   "execution_count": 5,
   "metadata": {},
   "outputs": [
    {
     "data": {
      "text/plain": [
       "1000000000"
      ]
     },
     "execution_count": 5,
     "metadata": {},
     "output_type": "execute_result"
    }
   ],
   "source": [
    "# It looks like a cylce every 70000 iterations\n",
    "# need to reach 1_000_000_000.  Just guess & bisect.\n",
    "50_000 + 70_000 * 14285"
   ]
  }
 ],
 "metadata": {
  "kernelspec": {
   "display_name": "Julia 1.0.1",
   "language": "julia",
   "name": "julia-1.0"
  },
  "language_info": {
   "file_extension": ".jl",
   "mimetype": "application/julia",
   "name": "julia",
   "version": "1.0.1"
  }
 },
 "nbformat": 4,
 "nbformat_minor": 2
}
