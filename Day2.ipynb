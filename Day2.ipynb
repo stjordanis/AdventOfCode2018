{
 "cells": [
  {
   "cell_type": "code",
   "execution_count": 15,
   "metadata": {},
   "outputs": [
    {
     "name": "stdout",
     "output_type": "stream",
     "text": [
      "countn(\"bababc\", 2) = true\n",
      "c2 = sum(countn.(input, 2)) = 244\n",
      "c3 = sum(countn.(input, 3)) = 22\n"
     ]
    },
    {
     "data": {
      "text/plain": [
       "5368"
      ]
     },
     "execution_count": 15,
     "metadata": {},
     "output_type": "execute_result"
    }
   ],
   "source": [
    "using StatsBase\n",
    "using Lazy\n",
    "input = readlines(\"input2\")\n",
    "# countn(s, n) = length(filter(x -> x[2] == n, countmap(collect(s)))) > 0\n",
    "ispositive(x) = x > 0\n",
    "valequals(n) = x -> x[2] == n\n",
    "countn(s, n) = @>> s collect countmap filter(valequals(n)) length ispositive\n",
    "@show countn(\"bababc\", 2)\n",
    "# count2(s) = countn(s, 2)\n",
    "# count3(s) = countn(s, 3)\n",
    "\n",
    "# unit test\n",
    "# @show count2(input[1])\n",
    "# @show count3(input[1])\n",
    "# v = [\"abcdef\", \"bababc\", \"abbcde\", \"abcccd\", \"aabcdd\", \"abcdee\", \"ababab\"]\n",
    "# @show count2.(v)\n",
    "# @show count3.(v)\n",
    "\n",
    "# part 1\n",
    "@show c2 = sum(countn.(input, 2))\n",
    "@show c3 = sum(countn.(input, 3))\n",
    "c2 * c3"
   ]
  },
  {
   "cell_type": "code",
   "execution_count": 20,
   "metadata": {},
   "outputs": [
    {
     "data": {
      "text/plain": [
       "1-element Array{Int64,1}:\n",
       " 26"
      ]
     },
     "execution_count": 20,
     "metadata": {},
     "output_type": "execute_result"
    }
   ],
   "source": [
    "unique(length.(input))"
   ]
  },
  {
   "cell_type": "code",
   "execution_count": 29,
   "metadata": {},
   "outputs": [
    {
     "name": "stdout",
     "output_type": "stream",
     "text": [
      "similarid(\"abcde\", \"abqxe\", 5) = nothing\n",
      "similarid(\"abcde\", \"abcxe\", 5) = (\"abcde\", \"abcxe\")\n",
      "similarid(\"abcde\", \"abcdf\", 5) = (\"abcde\", \"abcdf\")\n"
     ]
    },
    {
     "data": {
      "text/plain": [
       "(\"abcde\", \"abcdf\")"
      ]
     },
     "execution_count": 29,
     "metadata": {},
     "output_type": "execute_result"
    }
   ],
   "source": [
    "# part 2\n",
    "function similarid(x, y, n) \n",
    "    for i ∈ 1:n         # try remove every char\n",
    "        found = true\n",
    "        for j ∈ 1:n\n",
    "            if j != i   # skip the questionable char\n",
    "                if x[j] != y[j] \n",
    "                    found = false\n",
    "                    break\n",
    "                end\n",
    "            end\n",
    "        end\n",
    "        if found\n",
    "            return (x, y)\n",
    "        end\n",
    "    end\n",
    "end\n",
    "@show similarid(\"abcde\", \"abqxe\", 5)\n",
    "@show similarid(\"abcde\", \"abcxe\", 5)\n",
    "@show similarid(\"abcde\", \"abcdf\", 5)"
   ]
  },
  {
   "cell_type": "code",
   "execution_count": 35,
   "metadata": {},
   "outputs": [
    {
     "name": "stdout",
     "output_type": "stream",
     "text": [
      "cvgywxqubnuaefmsldjdrpfzyi\n",
      "cvgywxqubnuaefmslkjdrpfzyi\n",
      "  0.050582 seconds (23.03 k allocations: 1.158 MiB)\n"
     ]
    }
   ],
   "source": [
    "function search_fabric(input)\n",
    "    N = length(input)\n",
    "    L = length(input[1])\n",
    "    for i ∈ 1:N-1\n",
    "        for j ∈ i+1:N\n",
    "            found = similarid(input[i], input[j], L)\n",
    "            if found != nothing\n",
    "                println(found[1])\n",
    "                println(found[2])\n",
    "                break\n",
    "            end\n",
    "        end\n",
    "    end\n",
    "end\n",
    "@time search_fabric(input)"
   ]
  },
  {
   "cell_type": "code",
   "execution_count": 11,
   "metadata": {},
   "outputs": [
    {
     "name": "stdout",
     "output_type": "stream",
     "text": [
      "input[1] = \"mvgowxqubnhaefjslkjlrptzyi\"\n",
      "counter(input[1]) = DataStructures.Accumulator('n'=>1,'f'=>1,'w'=>1,'e'=>1,'o'=>1,'h'=>1,'j'=>2,'s'=>1,'k'=>1,'r'=>1,'t'=>1,'y'=>1,'q'=>1,'i'=>1,'a'=>1,'p'=>1,'m'=>1,'z'=>1,'v'=>1,'g'=>1,'x'=>1,'u'=>1,'l'=>2,'b'=>1)\n",
      "values(counter(input[1])) = [1, 1, 1, 1, 1, 1, 2, 1, 1, 1, 1, 1, 1, 1, 1, 1, 1, 1, 1, 1, 1, 1, 2, 1]\n",
      "2 in values(counter(input[1])) = true\n"
     ]
    },
    {
     "data": {
      "text/plain": [
       "250-element Array{Base.ValueIterator{Dict{Char,Int64}},1}:\n",
       " [1, 1, 1, 1, 1, 1, 2, 1, 1, 1  …  1, 1, 1, 1, 1, 1, 1, 1, 1, 2, 1]\n",
       " [1, 1, 1, 1, 2, 1, 1, 1, 1, 1  …  1, 1, 1, 1, 2, 1, 1, 1, 2, 1, 1]\n",
       " [2, 1, 1, 1, 3, 1, 1, 1, 1, 1  …  1, 1, 1, 1, 1, 1, 1, 1, 1, 1, 1]\n",
       " [1, 1, 1, 1, 1, 2, 1, 1, 1, 2  …  1, 1, 1, 1, 1, 1, 1, 2, 1, 1, 1]\n",
       " [1, 2, 1, 1, 1, 2, 1, 1, 1, 1  …  1, 1, 1, 1, 1, 1, 1, 1, 1, 1, 1]\n",
       " [1, 1, 1, 1, 1, 1, 2, 1, 1, 1  …  1, 1, 1, 1, 1, 1, 2, 1, 1, 2, 1]\n",
       " [1, 1, 1, 1, 1, 2, 2, 1, 1, 1  …  1, 1, 1, 1, 1, 1, 2, 1, 1, 1, 1]\n",
       " [1, 1, 1, 1, 1, 2, 1, 1, 2, 1  …  1, 1, 1, 1, 2, 1, 1, 1, 1, 1, 1]\n",
       " [1, 1, 1, 1, 1, 1, 1, 1, 1, 1  …  1, 1, 2, 1, 1, 1, 1, 1, 2, 1, 1]\n",
       " [1, 1, 1, 2, 1, 1, 1, 1, 1, 1  …  1, 1, 1, 1, 1, 1, 1, 2, 1, 1, 1]\n",
       " [1, 1, 1, 1, 1, 1, 1, 2, 1, 1  …  1, 1, 1, 1, 2, 1, 1, 1, 1, 1, 1]\n",
       " [2, 1, 1, 1, 1, 2, 1, 1, 1, 1  …  1, 1, 1, 1, 1, 1, 1, 1, 1, 1, 1]\n",
       " [1, 1, 1, 1, 1, 1, 1, 1, 1, 1  …  1, 2, 1, 1, 1, 1, 2, 1, 1, 1, 1]\n",
       " ⋮                                                                 \n",
       " [1, 1, 1, 1, 1, 1, 1, 2, 1, 1  …  2, 1, 1, 1, 1, 1, 2, 1, 1, 1, 1]\n",
       " [1, 1, 1, 1, 1, 1, 1, 1, 1, 1  …  1, 2, 1, 1, 1, 2, 1, 2, 1, 1, 1]\n",
       " [1, 1, 1, 1, 1, 2, 1, 1, 1, 1  …  1, 1, 1, 1, 1, 1, 1, 1, 1, 1, 1]\n",
       " [1, 1, 1, 1, 1, 1, 1, 2, 1, 1  …  1, 1, 2, 1, 1, 1, 1, 2, 1, 1, 1]\n",
       " [1, 2, 1, 1, 1, 1, 1, 1, 1, 1  …  1, 1, 1, 1, 2, 1, 1, 1, 1, 1, 1]\n",
       " [1, 1, 1, 1, 1, 1, 2, 1, 1, 1  …  1, 1, 1, 1, 2, 1, 1, 1, 1, 1, 1]\n",
       " [2, 1, 1, 1, 1, 1, 1, 1, 1, 1  …  1, 3, 1, 1, 1, 1, 1, 1, 1, 1, 1]\n",
       " [1, 1, 1, 2, 1, 1, 1, 1, 1, 1  …  1, 1, 1, 1, 3, 1, 1, 1, 1, 1, 1]\n",
       " [1, 1, 1, 1, 2, 1, 1, 1, 2, 1  …  1, 2, 1, 1, 1, 1, 1, 1, 1, 1, 1]\n",
       " [1, 1, 1, 1, 2, 1, 1, 1, 1, 1  …  1, 1, 2, 1, 1, 1, 1, 1, 1, 1, 1]\n",
       " [2, 1, 1, 1, 1, 2, 1, 1, 1, 1  …  2, 1, 1, 1, 1, 1, 1, 1, 1, 1, 1]\n",
       " [2, 1, 1, 1, 1, 1, 1, 1, 1, 2  …  1, 1, 1, 1, 1, 1, 1, 1, 1, 1, 2]"
      ]
     },
     "execution_count": 11,
     "metadata": {},
     "output_type": "execute_result"
    }
   ],
   "source": [
    "# from Slack\n",
    "using DataStructures: counter\n",
    "input = readlines(\"input2\")\n",
    "@show input[1]\n",
    "@show counter(input[1])\n",
    "@show values(counter(input[1]))\n",
    "@show in(2, values(counter(input[1])))\n",
    "counts = values.(counter.(input))"
   ]
  },
  {
   "cell_type": "code",
   "execution_count": null,
   "metadata": {},
   "outputs": [],
   "source": []
  }
 ],
 "metadata": {
  "kernelspec": {
   "display_name": "Julia 1.0.1",
   "language": "julia",
   "name": "julia-1.0"
  },
  "language_info": {
   "file_extension": ".jl",
   "mimetype": "application/julia",
   "name": "julia",
   "version": "1.0.1"
  }
 },
 "nbformat": 4,
 "nbformat_minor": 2
}
