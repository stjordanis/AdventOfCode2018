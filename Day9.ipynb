{
 "cells": [
  {
   "cell_type": "code",
   "execution_count": 1,
   "metadata": {},
   "outputs": [
    {
     "data": {
      "text/plain": [
       "Node(0, Node(#= circular reference @-1 =#), Node(#= circular reference @-1 =#))"
      ]
     },
     "execution_count": 1,
     "metadata": {},
     "output_type": "execute_result"
    }
   ],
   "source": [
    "mutable struct Node\n",
    "    data\n",
    "    prev::Union{Node, Nothing}\n",
    "    next::Union{Node, Nothing}\n",
    "end"
   ]
  },
  {
   "cell_type": "code",
   "execution_count": 3,
   "metadata": {},
   "outputs": [
    {
     "name": "stdout",
     "output_type": "stream",
     "text": [
      "L = Node(0, Node(#= circular reference @-1 =#), Node(#= circular reference @-1 =#))\n",
      "L.prev = Node(0, Node(#= circular reference @-1 =#), Node(#= circular reference @-1 =#))\n",
      "L.next = Node(0, Node(#= circular reference @-1 =#), Node(#= circular reference @-1 =#))\n"
     ]
    },
    {
     "data": {
      "text/plain": [
       "Node(0, Node(#= circular reference @-1 =#), Node(#= circular reference @-1 =#))"
      ]
     },
     "execution_count": 3,
     "metadata": {},
     "output_type": "execute_result"
    }
   ],
   "source": [
    "L = circlist(0)\n",
    "@show L\n",
    "@show L.prev\n",
    "@show L.next"
   ]
  },
  {
   "cell_type": "code",
   "execution_count": 42,
   "metadata": {},
   "outputs": [
    {
     "name": "stdout",
     "output_type": "stream",
     "text": [
      "0 \n",
      "0 1 \n",
      "0 1 2 \n",
      "0 2 1 \n",
      "2 0 1 \n",
      "3\n",
      "0 2 \n",
      "10 0 1 2 3 4 5 6 7 8 9 \n",
      "4 5 6 7 8 9 10 0 1 2 3 \n",
      "7 8 9 10 0 1 2 3 4 5 6 \n"
     ]
    }
   ],
   "source": [
    "function circlist(data)\n",
    "    n = Node(data, nothing, nothing)\n",
    "    n.prev = n\n",
    "    n.next = n\n",
    "    return n\n",
    "end\n",
    "\n",
    "function display(cl::Node)\n",
    "    start = cl\n",
    "    while true\n",
    "        print(cl.data, \" \")\n",
    "        cl = cl.next\n",
    "        cl == start && break\n",
    "    end\n",
    "    println()\n",
    "end\n",
    "\n",
    "function display_backward(cl::Node)\n",
    "    start = cl\n",
    "    while true\n",
    "        print(cl.data, \" \")\n",
    "        cl = cl.prev\n",
    "        cl == start && break\n",
    "    end\n",
    "    println()\n",
    "end\n",
    "\n",
    "function length(cl::Node)\n",
    "    n = 0\n",
    "    s = cl\n",
    "    while true\n",
    "        cl = cl.next\n",
    "        n += 1\n",
    "        s == cl && break\n",
    "    end\n",
    "    return n\n",
    "end\n",
    "\n",
    "# insert a new node after the current node, returns new node\n",
    "function insert!(cl::Node, data) \n",
    "    n = Node(data, cl, cl.next)\n",
    "    cl.next = n\n",
    "    n.next.prev = n\n",
    "    return n\n",
    "end\n",
    "\n",
    "# delete current node, returns previous node\n",
    "function remove!(cl::Node)\n",
    "    length(cl) == 1 && error(\"cannot remove last item in circular list\")\n",
    "    cl.prev.next = cl.next\n",
    "    cl.next.prev = cl.prev\n",
    "    return cl.prev\n",
    "end\n",
    "\n",
    "# navigate forward/backward in the circular list\n",
    "function shift(cl::Node, steps::Int, direction::Symbol)\n",
    "    for i in 1:steps\n",
    "        if direction == :forward \n",
    "            cl = cl.next\n",
    "        elseif direction == :backward\n",
    "            cl = cl.prev\n",
    "        else\n",
    "            error(\"Wrong direction: $direction\")\n",
    "        end\n",
    "    end\n",
    "    return cl\n",
    "end\n",
    "\n",
    "# unit testing\n",
    "Q = L = circlist(0)\n",
    "display(L)\n",
    "\n",
    "L = insert!(L, 1)\n",
    "display(Q)\n",
    "\n",
    "L = insert!(L, 2)\n",
    "display(Q)\n",
    "display_backward(Q)\n",
    "\n",
    "shift(Q, 2, :forward) |> display\n",
    "\n",
    "length(Q) |> println\n",
    "\n",
    "shift(Q, 1, :forward) |> remove! |> display\n",
    "\n",
    "W = circlist(0)\n",
    "for i in 1:10 insert!(W, i); W = W.next; end\n",
    "display(W)\n",
    "display(shift(W, 5, :forward))\n",
    "display(shift(W, 3, :backward))"
   ]
  },
  {
   "cell_type": "code",
   "execution_count": 58,
   "metadata": {},
   "outputs": [
    {
     "name": "stdout",
     "output_type": "stream",
     "text": [
      "2018-12-08T22:46:38.812: marble 100000 processed\n",
      "2018-12-08T22:46:41.568: marble 200000 processed\n",
      "2018-12-08T22:46:46.483: marble 300000 processed\n",
      "2018-12-08T22:46:53.198: marble 400000 processed\n",
      "2018-12-08T22:47:01.583: marble 500000 processed\n",
      "2018-12-08T22:47:12.522: marble 600000 processed\n",
      "2018-12-08T22:47:24.868: marble 700000 processed\n",
      "2018-12-08T22:47:38.831: marble 800000 processed\n",
      "2018-12-08T22:47:54.633: marble 900000 processed\n",
      "2018-12-08T22:48:12.333: marble 1000000 processed\n",
      "2018-12-08T22:48:32.209: marble 1100000 processed\n",
      "2018-12-08T22:48:53.824: marble 1200000 processed\n",
      "2018-12-08T22:49:17.812: marble 1300000 processed\n",
      "2018-12-08T22:49:43.276: marble 1400000 processed\n",
      "2018-12-08T22:50:17.392: marble 1500000 processed\n",
      "2018-12-08T22:51:03.027: marble 1600000 processed\n",
      "2018-12-08T22:51:39.602: marble 1700000 processed\n",
      "2018-12-08T22:52:13.4: marble 1800000 processed\n",
      "2018-12-08T22:52:53.411: marble 1900000 processed\n",
      "2018-12-08T22:53:35.982: marble 2000000 processed\n",
      "2018-12-08T22:54:17.982: marble 2100000 processed\n",
      "2018-12-08T22:55:01.927: marble 2200000 processed\n",
      "2018-12-08T22:55:49.019: marble 2300000 processed\n",
      "2018-12-08T22:56:40.183: marble 2400000 processed\n",
      "2018-12-08T22:57:33.219: marble 2500000 processed\n",
      "2018-12-08T22:58:26.368: marble 2600000 processed\n",
      "2018-12-08T22:59:19.602: marble 2700000 processed\n",
      "2018-12-08T23:00:13.269: marble 2800000 processed\n",
      "2018-12-08T23:01:10.471: marble 2900000 processed\n",
      "2018-12-08T23:02:08.733: marble 3000000 processed\n",
      "2018-12-08T23:03:07.045: marble 3100000 processed\n",
      "2018-12-08T23:04:08.277: marble 3200000 processed\n",
      "2018-12-08T23:05:21.181: marble 3300000 processed\n",
      "2018-12-08T23:06:43.9: marble 3400000 processed\n",
      "2018-12-08T23:07:55.736: marble 3500000 processed\n",
      "2018-12-08T23:09:07.455: marble 3600000 processed\n",
      "2018-12-08T23:10:20.621: marble 3700000 processed\n",
      "2018-12-08T23:11:34.908: marble 3800000 processed\n",
      "2018-12-08T23:12:52.398: marble 3900000 processed\n",
      "2018-12-08T23:14:11.82: marble 4000000 processed\n",
      "2018-12-08T23:15:40.53: marble 4100000 processed\n",
      "2018-12-08T23:17:19.677: marble 4200000 processed\n",
      "2018-12-08T23:18:50.422: marble 4300000 processed\n",
      "2018-12-08T23:20:16.14: marble 4400000 processed\n",
      "2018-12-08T23:21:42.783: marble 4500000 processed\n",
      "2018-12-08T23:23:10.855: marble 4600000 processed\n",
      "2018-12-08T23:24:41.312: marble 4700000 processed\n",
      "2018-12-08T23:26:13.884: marble 4800000 processed\n",
      "2018-12-08T23:27:48.217: marble 4900000 processed\n",
      "2018-12-08T23:29:34.13: marble 5000000 processed\n",
      "2018-12-08T23:32:14.133: marble 5100000 processed\n",
      "2018-12-08T23:34:13.169: marble 5200000 processed\n",
      "2018-12-08T23:35:57.673: marble 5300000 processed\n",
      "2018-12-08T23:37:54.471: marble 5400000 processed\n",
      "2018-12-08T23:39:51.673: marble 5500000 processed\n",
      "2018-12-08T23:41:45.317: marble 5600000 processed\n",
      "2018-12-08T23:43:43.102: marble 5700000 processed\n",
      "2018-12-08T23:45:46.067: marble 5800000 processed\n",
      "2018-12-08T23:47:51.231: marble 5900000 processed\n",
      "2018-12-08T23:49:57.261: marble 6000000 processed\n",
      "2018-12-08T23:52:07.039: marble 6100000 processed\n",
      "2018-12-08T23:54:17.906: marble 6200000 processed\n",
      "2018-12-08T23:56:41.285: marble 6300000 processed\n",
      "2018-12-08T23:59:06.017: marble 6400000 processed\n",
      "2018-12-09T00:01:23.773: marble 6500000 processed\n",
      "2018-12-09T00:04:08.061: marble 6600000 processed\n",
      "2018-12-09T00:06:48.415: marble 6700000 processed\n",
      "2018-12-09T00:09:13.963: marble 6800000 processed\n",
      "2018-12-09T00:11:45.081: marble 6900000 processed\n",
      "2018-12-09T00:14:19.404: marble 7000000 processed\n",
      "5425.089569 seconds (14.27 M allocations: 323.766 MiB)\n"
     ]
    },
    {
     "data": {
      "text/plain": [
       "(scores = [3329318022, 3338084362, 3341579397, 3336818909, 3347592587, 3340225602, 3338953147, 3343797117, 3340419992, 3340629970  …  3325297181, 3324569457, 3319641009, 3310406271, 3312373465, 3320100167, 3324828503, 3324005306, 3331266930, 3321826335], highest = 3350093681, num_players = 431, last_marble = 7095000)"
      ]
     },
     "execution_count": 58,
     "metadata": {},
     "output_type": "execute_result"
    }
   ],
   "source": [
    "using Dates\n",
    "\n",
    "function play(num_players, last_marble, chunk)\n",
    "    leaderboard = fill(0, num_players)\n",
    "    game = curr_marble = circlist(0)\n",
    "    marble = 0\n",
    "    while marble < last_marble\n",
    "        marble += 1\n",
    "        marble % chunk == 0 && (println(Dates.now(), \": marble $marble processed\"), flush(stdout))\n",
    "        if marble % 23 == 0\n",
    "            player = (marble % num_players) + 1\n",
    "            leaderboard[player] += marble   # win current marble\n",
    "            curr_marble = shift(curr_marble, 7, :backward)\n",
    "#             print(\"after shifted backward => \") ; display(curr_marble)\n",
    "            leaderboard[player] += curr_marble.data  # win the other marble\n",
    "            curr_marble = remove!(curr_marble)\n",
    "            curr_marble = shift(curr_marble, 1, :forward)\n",
    "        else\n",
    "            curr_marble = shift(curr_marble, 1, :forward)\n",
    "            curr_marble = insert!(curr_marble, marble)\n",
    "        end\n",
    "#         print(\"after placing $marble: curr_marble = \"); display(curr_marble)\n",
    "    end\n",
    "#     display(game)\n",
    "    return (scores = leaderboard, \n",
    "        highest = maximum(leaderboard),\n",
    "        num_players = num_players,\n",
    "        last_marble = last_marble\n",
    "        )\n",
    "end\n",
    "# [4]  0 16  8 17  4 18  9 19  2 20 10 21  5(22)11  1 12  6 13  3 14  7 15 \n",
    "# [5]  0 16  8 17  4 18(19) 2 20 10 21  5 22 11  1 12  6 13  3 14  7 15 \n",
    "# [6]  0 16  8 17  4 18 19  2(24)20 10 21  5 22 11  1 12  6 13  3 14  7 15 \n",
    "# [7]  0 16  8 17  4 18 19  2 24 20(25)10 21  5 22 11  1 12  6 13  3 14  7 15\n",
    "# [7]  0 16  8 17  4 18 19  2 24 20(25)10 21  5 22 11  1 12  6 13  3 14  7 15\n",
    "# @show play(10, 1618)\n",
    "# @show play(13, 7999)\n",
    "# @show play(17, 1104)\n",
    "@time play(431, 7095000, 100_000)"
   ]
  },
  {
   "cell_type": "code",
   "execution_count": null,
   "metadata": {},
   "outputs": [],
   "source": []
  }
 ],
 "metadata": {
  "kernelspec": {
   "display_name": "Julia 1.0.1",
   "language": "julia",
   "name": "julia-1.0"
  },
  "language_info": {
   "file_extension": ".jl",
   "mimetype": "application/julia",
   "name": "julia",
   "version": "1.0.1"
  }
 },
 "nbformat": 4,
 "nbformat_minor": 2
}
