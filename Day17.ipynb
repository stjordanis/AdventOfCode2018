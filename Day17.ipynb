{
 "cells": [
  {
   "cell_type": "code",
   "execution_count": 1,
   "metadata": {},
   "outputs": [
    {
     "data": {
      "text/plain": [
       "38-element Array{Tuple{Int64,Int64},1}:\n",
       " (495, 2) \n",
       " (495, 3) \n",
       " (495, 4) \n",
       " (495, 5) \n",
       " (495, 6) \n",
       " (495, 7) \n",
       " (495, 7) \n",
       " (496, 7) \n",
       " (497, 7) \n",
       " (498, 7) \n",
       " (499, 7) \n",
       " (500, 7) \n",
       " (501, 7) \n",
       " ⋮        \n",
       " (498, 13)\n",
       " (504, 10)\n",
       " (504, 11)\n",
       " (504, 12)\n",
       " (504, 13)\n",
       " (498, 13)\n",
       " (499, 13)\n",
       " (500, 13)\n",
       " (501, 13)\n",
       " (502, 13)\n",
       " (503, 13)\n",
       " (504, 13)"
      ]
     },
     "execution_count": 1,
     "metadata": {},
     "output_type": "execute_result"
    }
   ],
   "source": [
    "# return named tuple (x=?, y=?) of points\n",
    "function parse_line(line)\n",
    "    if line[1] == 'x'\n",
    "        x, y1, y2 = parse.(Int, match(r\"x=(.*), y=(.*)\\.\\.(.*)\", line).captures)\n",
    "        [(x,y) for y in UnitRange(y1, y2)]\n",
    "    else\n",
    "        y, x1, x2 = parse.(Int, match(r\"y=(.*), x=(.*)\\.\\.(.*)\", line).captures)\n",
    "        [(x,y) for x in UnitRange(x1, x2)]\n",
    "    end\n",
    "end\n",
    "\n",
    "# parse file and return clay points\n",
    "function parse_file(filename)\n",
    "    points = Tuple{Int64,Int64}[]\n",
    "    for line in readlines(filename)\n",
    "        append!(points, parse_line(line))\n",
    "    end\n",
    "    points\n",
    "end\n",
    "\n",
    "points = parse_file(\"input17_sample.txt\")"
   ]
  },
  {
   "cell_type": "code",
   "execution_count": 2,
   "metadata": {},
   "outputs": [
    {
     "data": {
      "text/plain": [
       "13×506 Array{Symbol,2}:\n",
       " :sand  :sand  :sand  :sand  :sand  …  :sand  :sand  :sand  :sand  :clay\n",
       " :sand  :sand  :sand  :sand  :sand     :sand  :sand  :sand  :sand  :clay\n",
       " :sand  :sand  :sand  :sand  :sand     :sand  :sand  :sand  :sand  :sand\n",
       " :sand  :sand  :sand  :sand  :sand     :sand  :sand  :sand  :sand  :sand\n",
       " :sand  :sand  :sand  :sand  :sand     :sand  :sand  :sand  :sand  :sand\n",
       " :sand  :sand  :sand  :sand  :sand  …  :sand  :sand  :sand  :sand  :sand\n",
       " :sand  :sand  :sand  :sand  :sand     :sand  :sand  :sand  :sand  :sand\n",
       " :sand  :sand  :sand  :sand  :sand     :sand  :sand  :sand  :sand  :sand\n",
       " :sand  :sand  :sand  :sand  :sand     :sand  :sand  :sand  :sand  :sand\n",
       " :sand  :sand  :sand  :sand  :sand     :sand  :sand  :clay  :sand  :sand\n",
       " :sand  :sand  :sand  :sand  :sand  …  :sand  :sand  :clay  :sand  :sand\n",
       " :sand  :sand  :sand  :sand  :sand     :sand  :sand  :clay  :sand  :sand\n",
       " :sand  :sand  :sand  :sand  :sand     :clay  :clay  :clay  :sand  :sand"
      ]
     },
     "execution_count": 2,
     "metadata": {},
     "output_type": "execute_result"
    }
   ],
   "source": [
    "# symbols are :sand, :clay, and :water\n",
    "function create_grid(points)\n",
    "    xmax = maximum(p[1] for p in points)\n",
    "    ymax = maximum(p[2] for p in points)\n",
    "    grid = fill(:sand, (ymax, xmax))\n",
    "    for (x,y) in points\n",
    "        grid[y, x] = :clay\n",
    "    end\n",
    "    grid\n",
    "end\n",
    "grid = create_grid(points)"
   ]
  },
  {
   "cell_type": "code",
   "execution_count": 3,
   "metadata": {},
   "outputs": [
    {
     "name": "stdout",
     "output_type": "stream",
     "text": [
      "............#\n",
      ".#..#.......#\n",
      ".#..#..#.....\n",
      ".#..#..#.....\n",
      ".#.....#.....\n",
      ".#.....#.....\n",
      ".#######.....\n",
      ".............\n",
      ".............\n",
      "....#.....#..\n",
      "....#.....#..\n",
      "....#.....#..\n",
      "....#######..\n"
     ]
    }
   ],
   "source": [
    "function visualize(grid; left=1, right=size(grid,2), top=1, bottom=size(grid,1))\n",
    "    for y in top:bottom\n",
    "        for x in left:right\n",
    "            grid[y,x] == :water && print(\"~\")\n",
    "            grid[y,x] == :clay && print(\"#\")\n",
    "            grid[y,x] == :sand && print(\".\")\n",
    "        end\n",
    "        println()\n",
    "    end\n",
    "end\n",
    "visualize(grid, left = 494)"
   ]
  },
  {
   "cell_type": "code",
   "execution_count": 4,
   "metadata": {},
   "outputs": [
    {
     "name": "stdout",
     "output_type": "stream",
     "text": [
      "reach_bottom!(500, 1, grid) = (500, 6)\n",
      "......~.....#\n",
      ".#..#.~.....#\n",
      ".#..#.~#.....\n",
      ".#..#.~#.....\n",
      ".#....~#.....\n",
      ".#....~#.....\n",
      ".#######.....\n",
      ".............\n",
      ".............\n",
      "....#.....#..\n",
      "....#.....#..\n",
      "....#.....#..\n",
      "....#######..\n"
     ]
    }
   ],
   "source": [
    "# walk down until reaches clay\n",
    "function reach_bottom!(x, y, grid)\n",
    "    while grid[y, x] != :clay\n",
    "        grid[y, x] = :water\n",
    "        y += 1\n",
    "        y > size(grid, 1) && return nothing\n",
    "    end\n",
    "    (x, y-1)  # last sand\n",
    "end\n",
    "@show reach_bottom!(500, 1, grid)\n",
    "visualize(grid, left = 494)"
   ]
  },
  {
   "cell_type": "code",
   "execution_count": 5,
   "metadata": {},
   "outputs": [
    {
     "name": "stdout",
     "output_type": "stream",
     "text": [
      "left_edge(500, 12, grid) = (x = 498, y = 12)\n",
      "right_edge(500, 12, grid) = (x = 504, y = 12)\n"
     ]
    },
    {
     "data": {
      "text/plain": [
       "(x = 504, y = 12)"
      ]
     },
     "execution_count": 5,
     "metadata": {},
     "output_type": "execute_result"
    }
   ],
   "source": [
    "function left_edge(x, y, grid)\n",
    "    while x > 1\n",
    "        x -= 1\n",
    "        grid[y, x] == :clay && return (x=x, y=y)\n",
    "    end\n",
    "    nothing\n",
    "end\n",
    "\n",
    "function right_edge(x, y, grid)\n",
    "    while x < size(grid, 2)\n",
    "        x += 1\n",
    "        grid[y, x] == :clay && return (x=x, y=y)\n",
    "    end\n",
    "    nothing\n",
    "end\n",
    "\n",
    "@show left_edge(500, 12, grid)\n",
    "@show right_edge(500, 12, grid)"
   ]
  },
  {
   "cell_type": "code",
   "execution_count": 6,
   "metadata": {},
   "outputs": [
    {
     "data": {
      "text/plain": [
       "bounded (generic function with 1 method)"
      ]
     },
     "execution_count": 6,
     "metadata": {},
     "output_type": "execute_result"
    }
   ],
   "source": [
    "# if bounded in both sides then return the volume\n",
    "function bounded(x, y, grid)\n",
    "    l, r = left_edge(x, y, grid), right_edge(x, y, grid)\n",
    "    if l != nothing && r != nothing\n",
    "        leak = any(grid[y+1, l.x+1:r.x-1] .== :sand) \n",
    "    else\n",
    "        leak = true\n",
    "    end\n",
    "    l, r, leak\n",
    "end"
   ]
  },
  {
   "cell_type": "code",
   "execution_count": 7,
   "metadata": {},
   "outputs": [
    {
     "data": {
      "text/plain": [
       "find_drop! (generic function with 1 method)"
      ]
     },
     "execution_count": 7,
     "metadata": {},
     "output_type": "execute_result"
    }
   ],
   "source": [
    "# find a drop location (x coordinate) that (x, y+1) is not clay\n",
    "function find_drop!(x, y, grid, direction, level)\n",
    "    grid[y,x] == :clay && return nothing\n",
    "    if direction == :right\n",
    "        r = x+1:size(grid,2)\n",
    "    else\n",
    "        r = x-1:-1:1\n",
    "    end\n",
    "    println(level, \": r = \", r, \" y=\", y)\n",
    "\n",
    "#     r = x+1:size(grid,2)\n",
    "#     r = x-1:-1:1\n",
    "    for xp in r\n",
    "        grid[y, xp] != :clay && (grid[y, xp] = :water)\n",
    "        grid[y+1, xp] == :sand && return xp\n",
    "    end\n",
    "    nothing\n",
    "end"
   ]
  },
  {
   "cell_type": "code",
   "execution_count": 8,
   "metadata": {},
   "outputs": [
    {
     "data": {
      "text/plain": [
       "flood! (generic function with 1 method)"
      ]
     },
     "execution_count": 8,
     "metadata": {},
     "output_type": "execute_result"
    }
   ],
   "source": [
    "function flood!(x, y, grid; debug = false, level = 0)\n",
    "    debug && println(level, \": starting flood! from (\", x, \",\", y, \")\")\n",
    "    bottom = reach_bottom!(x, y, grid)\n",
    "    bottom == nothing && return\n",
    "    x, y = bottom\n",
    "    debug && println(level, \": reached bottom of (\", x, \",\", y, \")\")\n",
    "    local lc, rc\n",
    "    while true\n",
    "        lc, rc, leak = bounded(x, y, grid)\n",
    "        if lc != nothing && rc != nothing && !leak\n",
    "            debug && println(level, \": no leak, filling lc=\", lc, \", rc=\", rc)\n",
    "            grid[y, lc.x+1:rc.x-1] .= :water\n",
    "            debug && println(level, \": water \", lc.x+1, \" to \", rc.x-1, \" at y=\", y)\n",
    "            y -= 1\n",
    "        else\n",
    "            break\n",
    "        end\n",
    "    end\n",
    "    \n",
    "    # flood right\n",
    "    debug && println(level, \" checking flood right x=\", x, \" y=\", y)\n",
    "    xp = x + 1\n",
    "    while xp <= size(grid,2)\n",
    "        if grid[y, xp] == :clay   # reached right edge\n",
    "            break\n",
    "        end\n",
    "        grid[y, xp] = :water\n",
    "        if grid[y+1, xp] == :sand\n",
    "            debug && println(level, \" recursion xp=\", xp, \" y=\", y)\n",
    "            flood!(xp, y, grid, debug = debug, level = level+1)\n",
    "            break\n",
    "        end\n",
    "        xp += 1\n",
    "    end\n",
    "    \n",
    "    # flood left\n",
    "    debug && println(level, \" checking flood left x=\", x, \" y=\", y)\n",
    "    xp = x - 1\n",
    "    while xp >= 1\n",
    "        if grid[y, xp] == :clay   # reached left edge\n",
    "            break\n",
    "        end\n",
    "        grid[y, xp] = :water\n",
    "        if grid[y+1, xp] == :sand\n",
    "            debug && println(level, \" recursion xp=\", xp, \" y=\", y)\n",
    "            flood!(xp, y, grid, debug = debug, level = level+1)\n",
    "            break\n",
    "        end\n",
    "        xp -= 1\n",
    "    end\n",
    "    \n",
    "    grid\n",
    "end"
   ]
  },
  {
   "cell_type": "code",
   "execution_count": 9,
   "metadata": {},
   "outputs": [
    {
     "name": "stdout",
     "output_type": "stream",
     "text": [
      "0: starting flood! from (500,1)\n",
      "0: reached bottom of (500,6)\n",
      "0: no leak, filling lc=(x = 495, y = 6), rc=(x = 501, y = 6)\n",
      "0: water 496 to 500 at y=6\n",
      "0: no leak, filling lc=(x = 495, y = 5), rc=(x = 501, y = 5)\n",
      "0: water 496 to 500 at y=5\n",
      "0: no leak, filling lc=(x = 498, y = 4), rc=(x = 501, y = 4)\n",
      "0: water 499 to 500 at y=4\n",
      "0: no leak, filling lc=(x = 498, y = 3), rc=(x = 501, y = 3)\n",
      "0: water 499 to 500 at y=3\n",
      "0 checking flood right x=500 y=2\n",
      "0 recursion xp=502 y=2\n",
      "1: starting flood! from (502,2)\n",
      "1: reached bottom of (502,12)\n",
      "1: no leak, filling lc=(x = 498, y = 12), rc=(x = 504, y = 12)\n",
      "1: water 499 to 503 at y=12\n",
      "1: no leak, filling lc=(x = 498, y = 11), rc=(x = 504, y = 11)\n",
      "1: water 499 to 503 at y=11\n",
      "1: no leak, filling lc=(x = 498, y = 10), rc=(x = 504, y = 10)\n",
      "1: water 499 to 503 at y=10\n",
      "1 checking flood right x=502 y=9\n",
      "1 recursion xp=505 y=9\n",
      "2: starting flood! from (505,9)\n",
      "1 checking flood left x=502 y=9\n",
      "1 recursion xp=497 y=9\n",
      "2: starting flood! from (497,9)\n",
      "0 checking flood left x=500 y=2\n",
      "count(grid .== :water) = 57\n",
      "..........~.....#\n",
      ".....#..#~~~~...#\n",
      ".....#..#~~#~....\n",
      ".....#..#~~#~....\n",
      ".....#~~~~~#~....\n",
      ".....#~~~~~#~....\n",
      ".....#######~....\n",
      "............~....\n",
      ".......~~~~~~~~~.\n",
      ".......~#~~~~~#~.\n",
      ".......~#~~~~~#~.\n",
      ".......~#~~~~~#~.\n",
      ".......~#######~.\n"
     ]
    }
   ],
   "source": [
    "points = parse_file(\"input17_sample.txt\")\n",
    "grid = create_grid(points)\n",
    "flood!(500, 1, grid; debug = true)\n",
    "@show count(grid .== :water)\n",
    "visualize(grid, left = 490)"
   ]
  },
  {
   "cell_type": "code",
   "execution_count": 10,
   "metadata": {},
   "outputs": [
    {
     "name": "stdout",
     "output_type": "stream",
     "text": [
      "count(grid .== :water) = 80\n",
      "....~~~~~~......#\n",
      "....~#~~#~~~~...#\n",
      "....~#~~#~~#~....\n",
      "....~#~~#~~#~....\n",
      "....~#~~~~~#~....\n",
      "....~#~~~~~#~....\n",
      "....~#######~....\n",
      "....~.......~....\n",
      "....~..~~~~~~~~~.\n",
      "....~..~#~~~~~#~.\n",
      "....~..~#~~~~~#~.\n",
      "....~..~#~~~~~#~.\n",
      "....~..~#######~.\n"
     ]
    }
   ],
   "source": [
    "# another test\n",
    "points = parse_file(\"input17_sample.txt\")\n",
    "grid = create_grid(points)\n",
    "flood!(497, 1, grid)\n",
    "@show count(grid .== :water)\n",
    "visualize(grid, left = 490)"
   ]
  },
  {
   "cell_type": "code",
   "execution_count": 11,
   "metadata": {},
   "outputs": [
    {
     "name": "stdout",
     "output_type": "stream",
     "text": [
      "count(grid .== :water) = 211196\n"
     ]
    },
    {
     "data": {
      "text/plain": [
       "(1984, 697)"
      ]
     },
     "execution_count": 11,
     "metadata": {},
     "output_type": "execute_result"
    }
   ],
   "source": [
    "points = parse_file(\"input17.txt\")\n",
    "grid = create_grid(points)\n",
    "flood!(500, 1, grid)\n",
    "@show count(grid .== :water)\n",
    "# visualize(grid, left = 490)\n",
    "size(grid)"
   ]
  },
  {
   "cell_type": "code",
   "execution_count": null,
   "metadata": {},
   "outputs": [],
   "source": []
  }
 ],
 "metadata": {
  "kernelspec": {
   "display_name": "Julia 1.0.1",
   "language": "julia",
   "name": "julia-1.0"
  },
  "language_info": {
   "file_extension": ".jl",
   "mimetype": "application/julia",
   "name": "julia",
   "version": "1.0.1"
  }
 },
 "nbformat": 4,
 "nbformat_minor": 2
}
