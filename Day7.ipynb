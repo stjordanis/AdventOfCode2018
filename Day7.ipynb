{
 "cells": [
  {
   "cell_type": "code",
   "execution_count": 1,
   "metadata": {},
   "outputs": [],
   "source": [
    "# read data\n",
    "data = [(m.captures[1][1], m.captures[2][1]) for m in \n",
    "        [match(r\"Step (\\w).*step (\\w) can\", L) for L in readlines(\"input7\")]];"
   ]
  },
  {
   "cell_type": "code",
   "execution_count": 2,
   "metadata": {},
   "outputs": [
    {
     "data": {
      "text/plain": [
       "Dict{Any,Any} with 23 entries:\n",
       "  'E' => ['W', 'G']\n",
       "  'Z' => ['G']\n",
       "  'X' => ['Z', 'E', 'S', 'G', 'T']\n",
       "  'C' => ['A', 'U', 'B', 'M', 'R']\n",
       "  'B' => ['W']\n",
       "  'D' => ['K', 'Z']\n",
       "  'A' => ['K', 'Y']\n",
       "  'F' => ['T', 'U', 'R', 'B', 'E']\n",
       "  'Q' => ['K', 'C', 'Z', 'T', 'X', 'R', 'E']\n",
       "  'P' => ['B', 'D', 'E']\n",
       "  'M' => ['R', 'G', 'Y', 'V', 'W']\n",
       "  'J' => ['Y', 'Q', 'P', 'I', 'M']\n",
       "  'N' => ['S', 'L', 'Z', 'Q', 'V', 'H', 'C', 'T', 'I', 'K', 'P', 'X', 'D', 'U']\n",
       "  'O' => ['H', 'N', 'X', 'L', 'Q', 'S', 'J']\n",
       "  'K' => ['G']\n",
       "  'H' => ['X', 'E', 'P', 'T', 'J', 'Y', 'L', 'A', 'R', 'Q']\n",
       "  'I' => ['V', 'S', 'P', 'T', 'Z']\n",
       "  'S' => ['V', 'B']\n",
       "  'T' => ['G', 'A', 'Z', 'M']\n",
       "  'U' => ['D', 'M', 'W', 'K']\n",
       "  'L' => ['F', 'I', 'J', 'M', 'C', 'S', 'R', 'P']\n",
       "  'Y' => ['B', 'K']\n",
       "  'V' => ['G']"
      ]
     },
     "execution_count": 2,
     "metadata": {},
     "output_type": "execute_result"
    }
   ],
   "source": [
    "# build dependency lookup\n",
    "function build_deps(data)\n",
    "    v = Dict()\n",
    "    for (p, q) ∈ data\n",
    "        if haskey(v, q)\n",
    "            v[q] = [v[q]..., p]\n",
    "        else\n",
    "            v[q] = [p]\n",
    "        end\n",
    "    end\n",
    "    v\n",
    "end\n",
    "deps = build_deps(data)"
   ]
  },
  {
   "cell_type": "code",
   "execution_count": 3,
   "metadata": {},
   "outputs": [
    {
     "data": {
      "text/plain": [
       "\"GKRVWBESYAMZDPTIUCFXQJLHNO\""
      ]
     },
     "execution_count": 3,
     "metadata": {},
     "output_type": "execute_result"
    }
   ],
   "source": [
    "function find_answer(deps)\n",
    "    sequence = []\n",
    "    starters = setdiff!(Set('A':'Z'), Set(keys(deps)))\n",
    "\n",
    "    candidates(deps) = setdiff!(Set([k for (k,v) in deps if all(x in sequence for x in v)]), Set(sequence))\n",
    "    elect(letters) = minimum(letters)\n",
    "                \n",
    "    letter = pop!(starters, elect(starters))\n",
    "    while true\n",
    "        push!(sequence, letter)\n",
    "        next_candidates = [candidates(deps)..., starters...]\n",
    "        isempty(next_candidates) && break\n",
    "        letter = elect(next_candidates)\n",
    "        letter ∈ starters && pop!(starters, letter)\n",
    "    end\n",
    "    join(sequence)\n",
    "end\n",
    "find_answer(deps)"
   ]
  },
  {
   "cell_type": "code",
   "execution_count": 4,
   "metadata": {},
   "outputs": [
    {
     "name": "stdout",
     "output_type": "stream",
     "text": [
      "workers = [Worker(), Worker(), Worker(), Worker(), Worker()] = Worker[Worker(Job[]), Worker(Job[]), Worker(Job[]), Worker(Job[]), Worker(Job[])]\n",
      "At 903 second, all jobs are finished\n"
     ]
    },
    {
     "data": {
      "text/plain": [
       "5-element Array{Worker,1}:\n",
       " Worker(Job[Job('R', 0, 78), Job('E', 83, 148), Job('S', 149, 228), Job('A', 230, 291), Job('T', 303, 383), Job('X', 383, 467), Job('Q', 467, 544), Job('J', 544, 614), Job('L', 614, 686), Job('H', 686, 754), Job('N', 754, 828), Job('O', 828, 903)])\n",
       " Worker(Job[Job('W', 0, 83), Job('B', 83, 145), Job('Y', 145, 230), Job('M', 230, 303), Job('U', 303, 384), Job('C', 384, 447)])                                                                                                                        \n",
       " Worker(Job[Job('G', 0, 67), Job('K', 67, 138), Job('D', 153, 217), Job('P', 217, 293), Job('I', 383, 452)])                                                                                                                                            \n",
       " Worker(Job[Job('Z', 67, 153), Job('F', 384, 450)])                                                                                                                                                                                                     \n",
       " Worker(Job[Job('V', 67, 149)])                                                                                                                                                                                                                         "
      ]
     },
     "execution_count": 4,
     "metadata": {},
     "output_type": "execute_result"
    }
   ],
   "source": [
    "# part 2\n",
    "mutable struct Job\n",
    "    letter::Char\n",
    "    started_at::Int\n",
    "    finished_at::Int\n",
    "end\n",
    "\n",
    "mutable struct Worker\n",
    "    jobs::Vector{Job}\n",
    "    Worker() = new(Job[])\n",
    "end\n",
    "\n",
    "function time_available(worker)\n",
    "    isempty(worker.jobs) ? 0 : worker.jobs[end].finished_at\n",
    "end\n",
    "\n",
    "function completed_jobs(workers, at_time)\n",
    "    jobs = Job[]\n",
    "    for worker in workers\n",
    "        for job in worker.jobs\n",
    "            job.finished_at <= at_time && push!(jobs, job)\n",
    "        end\n",
    "    end\n",
    "    jobs\n",
    "end\n",
    "\n",
    "function in_progress_jobs(workers, at_time)\n",
    "    jobs = Job[]\n",
    "    for worker in workers\n",
    "        for job in worker.jobs\n",
    "            job.started_at <= at_time < job.finished_at && push!(jobs, job)\n",
    "        end\n",
    "    end\n",
    "    jobs\n",
    "end\n",
    "\n",
    "function available_workers(workers, at_time)\n",
    "    filter(w -> time_available(w) <= at_time, workers)\n",
    "end\n",
    "\n",
    "function candidate_letters(workers, at_time, deps, starters)\n",
    "    completed_letters = Set([j.letter for j in completed_jobs(workers, at_time)])\n",
    "    in_progress_letters = Set([j.letter for j in in_progress_jobs(workers, at_time)])\n",
    "    ready_letters = Set([k for (k,v) in deps if all(x in completed_letters for x in v)])\n",
    "    setdiff!(union!(ready_letters, starters), union!(completed_letters, in_progress_letters))\n",
    "end\n",
    "                    \n",
    "# NOTE: change from 1 to 61 for real\n",
    "function kick_off!(worker, letter, at_time)\n",
    "    job = Job(letter, at_time, at_time + 61 + Int(letter) - Int('A'))\n",
    "    push!(worker.jobs, job)\n",
    "end\n",
    "\n",
    "function allocate!(workers, letters, at_time)\n",
    "    for letter in letters\n",
    "        free_workers = available_workers(workers, at_time)\n",
    "        !isempty(free_workers) && kick_off!(free_workers[1], letter, at_time)\n",
    "    end\n",
    "    workers\n",
    "end\n",
    "                \n",
    "function run_me(workers, deps)\n",
    "    ts = 0  # timestamp\n",
    "    all_letters = unique(vcat(\n",
    "                            collect(Iterators.flatten(values(deps))), \n",
    "                            collect(keys(deps))))\n",
    "    total_number_of_jobs = length(all_letters)\n",
    "    starters = setdiff!(Set(all_letters), Set(keys(deps)))  \n",
    "    while true\n",
    "        length(completed_jobs(workers, ts)) == total_number_of_jobs && break\n",
    "        letters = candidate_letters(workers, ts, deps, starters)\n",
    "        allocate!(workers, letters, ts)\n",
    "        ts += 1\n",
    "    end\n",
    "    println(\"At $ts second, all jobs are finished\")\n",
    "    workers\n",
    "end\n",
    "\n",
    "# test\n",
    "# Step C must be finished before step A can begin.\n",
    "# Step C must be finished before step F can begin.\n",
    "# Step A must be finished before step B can begin.\n",
    "# Step A must be finished before step D can begin.\n",
    "# Step B must be finished before step E can begin.\n",
    "# Step D must be finished before step E can begin.\n",
    "# Step F must be finished before step E can begin.\n",
    "\n",
    "# @show deps = Dict('A' => ['C'], 'F' => ['C'], 'B' => ['A'], 'D' => ['A'], 'E' => ['B', 'D', 'F'])\n",
    "# @show workers = [Worker(), Worker()]\n",
    "# run_me(workers, deps)\n",
    "\n",
    "# @show starters = setdiff!(Set('A':'F'), Set(keys(deps)))\n",
    "# @show available_workers(workers, 0)\n",
    "# @show time_available(workers[1])\n",
    "# @show time_available(workers[2])\n",
    "# @show candidate_letters(workers, 0, deps, starters)\n",
    "# @show allocate!(workers, ['C'], 0)\n",
    "# @show candidate_letters(workers, 1, deps, starters)\n",
    "# @show candidate_letters(workers, 2, deps, starters)\n",
    "# @show candidate_letters(workers, 3, deps, starters)\n",
    "# @show candidate_letters(workers, 4, deps, starters)\n",
    "\n",
    "@show workers = [Worker(), Worker(), Worker(), Worker(), Worker()]\n",
    "run_me(workers, deps)        "
   ]
  },
  {
   "cell_type": "code",
   "execution_count": null,
   "metadata": {},
   "outputs": [],
   "source": []
  }
 ],
 "metadata": {
  "kernelspec": {
   "display_name": "Julia 1.0.1",
   "language": "julia",
   "name": "julia-1.0"
  },
  "language_info": {
   "file_extension": ".jl",
   "mimetype": "application/julia",
   "name": "julia",
   "version": "1.0.1"
  }
 },
 "nbformat": 4,
 "nbformat_minor": 2
}
