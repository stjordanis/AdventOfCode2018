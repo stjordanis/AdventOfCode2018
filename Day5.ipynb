{
 "cells": [
  {
   "cell_type": "code",
   "execution_count": 89,
   "metadata": {},
   "outputs": [
    {
     "name": "stdout",
     "output_type": "stream",
     "text": [
      "  0.153107 seconds (51.76 k allocations: 68.159 MiB, 3.51% gc time)\n"
     ]
    },
    {
     "data": {
      "text/plain": [
       "10878"
      ]
     },
     "execution_count": 89,
     "metadata": {},
     "output_type": "execute_result"
    }
   ],
   "source": [
    "# part 1\n",
    "function annihilate(s)\n",
    "    while true\n",
    "        v = Char[]\n",
    "        i = 1\n",
    "        elim = false\n",
    "        while i <= length(s)\n",
    "            if i == length(s)\n",
    "                push!(v, s[i])\n",
    "            elseif abs(Int(s[i+1]) - Int(s[i])) != 32\n",
    "                push!(v, s[i])\n",
    "            else\n",
    "                i += 1\n",
    "                elim = true\n",
    "            end\n",
    "            i += 1\n",
    "        end\n",
    "        !elim && break\n",
    "        s = v\n",
    "    end\n",
    "    join(Char.(s))\n",
    "end\n",
    "\n",
    "input = readlines(\"input5\")[1]\n",
    "@time input |> collect |> annihilate |> length"
   ]
  },
  {
   "cell_type": "code",
   "execution_count": 90,
   "metadata": {},
   "outputs": [
    {
     "name": "stdout",
     "output_type": "stream",
     "text": [
      "  2.270738 seconds (314.25 k allocations: 1.797 GiB, 9.48% gc time)\n"
     ]
    },
    {
     "data": {
      "text/plain": [
       "Dict{Char,Int64} with 26 entries:\n",
       "  'n' => 10406\n",
       "  'f' => 6874\n",
       "  'w' => 10480\n",
       "  'd' => 10438\n",
       "  'e' => 10474\n",
       "  'o' => 10464\n",
       "  'h' => 10500\n",
       "  'j' => 10426\n",
       "  'i' => 10440\n",
       "  'k' => 10418\n",
       "  'r' => 10386\n",
       "  's' => 10424\n",
       "  't' => 10442\n",
       "  'q' => 10470\n",
       "  'y' => 10472\n",
       "  'a' => 10408\n",
       "  'c' => 10460\n",
       "  'p' => 10396\n",
       "  'm' => 10498\n",
       "  'z' => 10460\n",
       "  'g' => 10508\n",
       "  'v' => 10500\n",
       "  'l' => 10420\n",
       "  'u' => 10454\n",
       "  'x' => 10400\n",
       "  'b' => 10412"
      ]
     },
     "execution_count": 90,
     "metadata": {},
     "output_type": "execute_result"
    }
   ],
   "source": [
    "# part 2\n",
    "@time Dict(c => replace(input, Regex(\"$c\", \"i\") => \"\") |> collect |> annihilate |> length \n",
    "         for c in \"abcdefghijklmnopqrstuvwxyz\")"
   ]
  },
  {
   "cell_type": "code",
   "execution_count": 78,
   "metadata": {},
   "outputs": [
    {
     "name": "stdout",
     "output_type": "stream",
     "text": [
      "annihilate2(input, x) = 10878\n",
      "  0.867594 seconds (231.84 k allocations: 190.486 MiB, 18.91% gc time)\n",
      " 10.642478 seconds (4.99 M allocations: 4.903 GiB, 3.64% gc time)\n"
     ]
    },
    {
     "data": {
      "text/plain": [
       "Dict{Char,Int64} with 26 entries:\n",
       "  'n' => 10406\n",
       "  'f' => 6874\n",
       "  'w' => 10480\n",
       "  'd' => 10438\n",
       "  'e' => 10474\n",
       "  'o' => 10464\n",
       "  'h' => 10500\n",
       "  'j' => 10426\n",
       "  'i' => 10440\n",
       "  'k' => 10418\n",
       "  'r' => 10386\n",
       "  's' => 10424\n",
       "  't' => 10442\n",
       "  'q' => 10470\n",
       "  'y' => 10472\n",
       "  'a' => 10408\n",
       "  'c' => 10460\n",
       "  'p' => 10396\n",
       "  'm' => 10498\n",
       "  'z' => 10460\n",
       "  'g' => 10508\n",
       "  'v' => 10500\n",
       "  'l' => 10420\n",
       "  'u' => 10454\n",
       "  'x' => 10400\n",
       "  'b' => 10412"
      ]
     },
     "execution_count": 78,
     "metadata": {},
     "output_type": "execute_result"
    }
   ],
   "source": [
    "x = [\n",
    "    \"aA\", \"Aa\", \"bB\", \"Bb\", \"cC\", \"Cc\", \"dD\", \"Dd\", \"eE\", \"Ee\", \"fF\", \"Ff\", \"gG\", \"Gg\", \"hH\", \"Hh\",\n",
    "    \"iI\", \"Ii\", \"jJ\", \"Jj\", \"kK\", \"Kk\", \"lL\", \"Ll\", \"mM\", \"Mm\", \"nN\", \"Nn\", \"oO\", \"Oo\", \"pP\", \"Pp\", \"qQ\", \"Qq\",\n",
    "    \"rR\", \"Rr\", \"sS\", \"Ss\", \"tT\", \"Tt\", \"uU\", \"Uu\", \"vV\", \"Vv\", \"wW\", \"Ww\", \"xX\", \"Xx\", \"yY\", \"Yy\", \n",
    "    \"zZ\", \"Zz\"\n",
    "]\n",
    "\n",
    "function annihilate2(s, x)\n",
    "    t = s\n",
    "    while true\n",
    "        L = length(t)\n",
    "        for p in x\n",
    "            t = replace(t, p => \"\")\n",
    "        end\n",
    "        length(t) == L && return L\n",
    "    end\n",
    "end\n",
    "@time @show annihilate2(input, x)\n",
    "\n",
    "@time Dict(c => annihilate2(replace(input, Regex(\"$c\", \"i\") => \"\"), x) for c in \"abcdefghijklmnopqrstuvwxyz\")"
   ]
  },
  {
   "cell_type": "code",
   "execution_count": 93,
   "metadata": {},
   "outputs": [
    {
     "name": "stdout",
     "output_type": "stream",
     "text": [
      "  0.054441 seconds (120.24 k allocations: 64.069 MiB)\n",
      "length of surviving string is 10878\n"
     ]
    }
   ],
   "source": [
    "function check(vec::Vector{Int})\n",
    "    n = length(vec)\n",
    "    n<2 && return vec\n",
    "    n==2 && return abs(vec[1]-vec[2])==32 ? Int[] : vec\n",
    "    return glue(check(vec[1:n÷2]), check(vec[1+n÷2:end]))\n",
    "end\n",
    "\n",
    "function glue(v,w)\n",
    "    length(v)==0 && return w\n",
    "    length(w)==0 && return v\n",
    "    abs(v[end]-w[1])==32 && return glue(v[1:end-1],w[2:end])\n",
    "    return vcat(v,w)\n",
    "end\n",
    "\n",
    "check(str::String) = @time str |> collect .|> Int |> check .|> Char |> String\n",
    "\n",
    "println(\"length of surviving string is \", length(check(input)))"
   ]
  }
 ],
 "metadata": {
  "kernelspec": {
   "display_name": "Julia 1.0.1",
   "language": "julia",
   "name": "julia-1.0"
  },
  "language_info": {
   "file_extension": ".jl",
   "mimetype": "application/julia",
   "name": "julia",
   "version": "1.0.1"
  }
 },
 "nbformat": 4,
 "nbformat_minor": 2
}
