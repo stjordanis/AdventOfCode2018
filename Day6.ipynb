{
 "cells": [
  {
   "cell_type": "code",
   "execution_count": 1,
   "metadata": {},
   "outputs": [
    {
     "data": {
      "text/plain": [
       "(28, 4143)"
      ]
     },
     "execution_count": 1,
     "metadata": {},
     "output_type": "execute_result"
    }
   ],
   "source": [
    "# Algorithm:\n",
    "# consider the bounded box (minx, miny) and (maxx, maxy)\n",
    "# find the manhattan distances for each location within the box.\n",
    "# points there are tagged on the boundary are infinite, others not.\n",
    "\n",
    "function boundary(points)\n",
    "    minx, maxx = extrema(point[1] for point in points)\n",
    "    miny, maxy = extrema(point[2] for point in points)\n",
    "    return minx, miny, maxx, maxy\n",
    "end\n",
    "\n",
    "function manhattan_distance(p, q)\n",
    "    return abs(p[1] - q[1]) + abs(p[2] - q[2])\n",
    "end\n",
    "\n",
    "function has_multiple_nearest_neighbor(distances)\n",
    "    count(x == minimum(distances) for x in distances) > 1\n",
    "end\n",
    "\n",
    "function nearest_point(point, candidate_points)\n",
    "    distances = [manhattan_distance(point, from_point) for from_point in candidate_points]\n",
    "    has_multiple_nearest_neighbor(distances) ? 0 : findmin(distances)[2]\n",
    "end\n",
    "\n",
    "function create_map(candidate_points)\n",
    "    minx, miny, maxx, maxy = boundary(candidate_points)\n",
    "    # note: some wasted memory since minx/miny isn't zero\n",
    "    distance_map = zeros(Int, maxy, maxx)\n",
    "    for y in miny:maxy\n",
    "        for x in minx:maxx\n",
    "           distance_map[y, x] = nearest_point([x,y], candidate_points)\n",
    "        end\n",
    "    end\n",
    "    return distance_map\n",
    "end\n",
    "\n",
    "function eliminated_ones(distance_map)\n",
    "    # note: zero is included in the result intentionally\n",
    "    return unique(vcat(\n",
    "            distance_map[1,:], distance_map[end,:], \n",
    "                distance_map[:,1], distance_map[:,end]))\n",
    "end\n",
    "\n",
    "function areas_by_point(distance_map)\n",
    "    # Create a (point => area) dictionary\n",
    "    # note: is there a better way to do this?\n",
    "    M, N = size(distance_map)\n",
    "    distance_array = reshape(distance_map, (M*N,))\n",
    "    distance_count = countmap(distance_array)\n",
    "    # Remove ones that are tagged on the boundary\n",
    "    for e in eliminated_ones(distance_map)\n",
    "        delete!(distance_count, e)\n",
    "    end\n",
    "    return distance_count\n",
    "end\n",
    "\n",
    "function max_area(areas)\n",
    "    let point_index = argmax(areas)\n",
    "        return point_index, areas[point_index]\n",
    "    end\n",
    "end\n",
    "\n",
    "using StatsBase\n",
    "points = [parse.(Int, split(L, \", \")) for L ∈ readlines(\"input6\")]\n",
    "create_map(points) |> areas_by_point |> max_area"
   ]
  },
  {
   "cell_type": "code",
   "execution_count": 2,
   "metadata": {},
   "outputs": [
    {
     "data": {
      "text/plain": [
       "35039"
      ]
     },
     "execution_count": 2,
     "metadata": {},
     "output_type": "execute_result"
    }
   ],
   "source": [
    "# part 2\n",
    "function total_distance(point, candidate_points)\n",
    "    return sum(manhattan_distance(point, from_point) for from_point in candidate_points)\n",
    "end\n",
    "\n",
    "function is_safe(point, candidate_points; safe_distance = 10000)\n",
    "    return total_distance(point, candidate_points) < safe_distance\n",
    "end\n",
    "\n",
    "function create_safety_map(candidate_points; kwargs...)\n",
    "    minx, miny, maxx, maxy = boundary(candidate_points)\n",
    "    # note: some wasted memory since minx/miny isn't zero\n",
    "    safety_map = zeros(Int, maxy, maxx)\n",
    "    for y in miny:maxy\n",
    "        for x in minx:maxx\n",
    "           safety_map[y, x] = is_safe([x,y], candidate_points; kwargs...) ? 1 : 0\n",
    "        end\n",
    "    end\n",
    "    return safety_map\n",
    "end\n",
    "\n",
    "create_safety_map(points) |> sum"
   ]
  },
  {
   "cell_type": "code",
   "execution_count": 3,
   "metadata": {},
   "outputs": [
    {
     "name": "stdout",
     "output_type": "stream",
     "text": [
      "test_box = boundary(test_points) = (1, 1, 8, 9)\n",
      "manhattan_distance([1, 1], [1, 1]) = 0\n",
      "manhattan_distance([1, 1], [2, 1]) = 1\n",
      "manhattan_distance([1, 1], [2, 2]) = 2\n",
      "nearest_point([3, 2], test_points) = 4\n",
      "create_map(test_points) = [1 1 1 1 0 3 3 3; 1 1 4 4 5 3 3 3; 1 4 4 4 5 3 3 3; 0 4 4 4 5 5 3 3; 2 0 4 5 5 5 5 3; 2 2 0 5 5 5 5 0; 2 2 0 5 5 5 6 6; 2 2 0 5 5 6 6 6; 2 2 0 6 6 6 6 6]\n",
      "create_map(test_points) |> eliminated_ones = [1, 0, 3, 2, 6]\n"
     ]
    },
    {
     "data": {
      "text/plain": [
       "9×8 Array{Int64,2}:\n",
       " 0  0  0  0  0  0  0  0\n",
       " 0  0  0  0  0  0  0  0\n",
       " 0  0  1  1  1  0  0  0\n",
       " 0  1  1  1  1  1  0  0\n",
       " 0  1  1  1  1  1  0  0\n",
       " 0  0  1  1  1  0  0  0\n",
       " 0  0  0  0  0  0  0  0\n",
       " 0  0  0  0  0  0  0  0\n",
       " 0  0  0  0  0  0  0  0"
      ]
     },
     "execution_count": 3,
     "metadata": {},
     "output_type": "execute_result"
    }
   ],
   "source": [
    "# testing\n",
    "test_points = [[1,1], [1,6], [8,3], [3,4], [5,5], [8,9]]\n",
    "@show test_box = boundary(test_points)\n",
    "@show manhattan_distance([1,1], [1,1])\n",
    "@show manhattan_distance([1,1], [2,1])\n",
    "@show manhattan_distance([1,1], [2,2])\n",
    "@show nearest_point([3,2], test_points)\n",
    "@show create_map(test_points)\n",
    "@show create_map(test_points) |> eliminated_ones\n",
    "create_safety_map(test_points, safe_distance = 32) \n",
    "\n",
    "# for y in 1:9\n",
    "#     for x in 1:8\n",
    "#         p = nearest_point([x,y], test_points)\n",
    "#         print(p)\n",
    "#     end\n",
    "#     println()\n",
    "# end\n",
    "# println(\"\"\"\n",
    "# Aaaa.ccc\n",
    "# aaddeccc\n",
    "# adddeccC\n",
    "# .dDdeecc\n",
    "# b.deEeec\n",
    "# Bb.eeee.\n",
    "# bb.eeeff\n",
    "# bb.eefff\n",
    "# bb.ffffF\n",
    "# \"\"\")"
   ]
  },
  {
   "cell_type": "code",
   "execution_count": 5,
   "metadata": {},
   "outputs": [
    {
     "name": "stdout",
     "output_type": "stream",
     "text": [
      "search: \u001b[0m\u001b[1mc\u001b[22m\u001b[0m\u001b[1mo\u001b[22m\u001b[0m\u001b[1mu\u001b[22m\u001b[0m\u001b[1mn\u001b[22m\u001b[0m\u001b[1mt\u001b[22m\u001b[0m\u001b[1mm\u001b[22m\u001b[0m\u001b[1ma\u001b[22m\u001b[0m\u001b[1mp\u001b[22m\n",
      "\n"
     ]
    },
    {
     "data": {
      "text/markdown": [
       "```\n",
       "countmap(x; alg = :auto)\n",
       "```\n",
       "\n",
       "Return a dictionary mapping each unique value in `x` to its number of occurrences.\n",
       "\n",
       "  * `:auto` (default): if `StatsBase.radixsort_safe(eltype(x)) == true` then use                    `:radixsort`, otherwise use `:dict`.\n",
       "  * `:radixsort`:      if `radixsort_safe(eltype(x)) == true` then use the                    [radix sort](https://en.wikipedia.org/wiki/Radix_sort)                    algorithm to sort the input vector which will generally lead to                    shorter running time. However the radix sort algorithm creates a                    copy of the input vector and hence uses more RAM. Choose `:dict`                    if the amount of available RAM is a limitation.\n",
       "  * `:dict`:           use `Dict`-based method which is generally slower but uses less                    RAM and is safe for any data type.\n"
      ],
      "text/plain": [
       "\u001b[36m  countmap(x; alg = :auto)\u001b[39m\n",
       "\n",
       "  Return a dictionary mapping each unique value in \u001b[36mx\u001b[39m to its number of\n",
       "  occurrences.\n",
       "\n",
       "    •    \u001b[36m:auto\u001b[39m (default): if \u001b[36mStatsBase.radixsort_safe(eltype(x)) == true\u001b[39m\n",
       "        then use \u001b[36m:radixsort\u001b[39m, otherwise use \u001b[36m:dict\u001b[39m.\n",
       "\n",
       "    •    \u001b[36m:radixsort\u001b[39m: if \u001b[36mradixsort_safe(eltype(x)) == true\u001b[39m then use the\n",
       "        radix sort (https://en.wikipedia.org/wiki/Radix_sort) algorithm to\n",
       "        sort the input vector which will generally lead to shorter running\n",
       "        time. However the radix sort algorithm creates a copy of the input\n",
       "        vector and hence uses more RAM. Choose \u001b[36m:dict\u001b[39m if the amount of\n",
       "        available RAM is a limitation.\n",
       "\n",
       "    •    \u001b[36m:dict\u001b[39m: use \u001b[36mDict\u001b[39m-based method which is generally slower but uses\n",
       "        less RAM and is safe for any data type."
      ]
     },
     "execution_count": 5,
     "metadata": {},
     "output_type": "execute_result"
    }
   ],
   "source": [
    "?countmap"
   ]
  }
 ],
 "metadata": {
  "kernelspec": {
   "display_name": "Julia 1.0.1",
   "language": "julia",
   "name": "julia-1.0"
  },
  "language_info": {
   "file_extension": ".jl",
   "mimetype": "application/julia",
   "name": "julia",
   "version": "1.0.1"
  }
 },
 "nbformat": 4,
 "nbformat_minor": 2
}
