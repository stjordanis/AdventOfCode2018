{
 "cells": [
  {
   "cell_type": "code",
   "execution_count": 1,
   "metadata": {},
   "outputs": [],
   "source": [
    "input = sort(readlines(\"input4\")"
   ]
  },
  {
   "cell_type": "code",
   "execution_count": 87,
   "metadata": {},
   "outputs": [
    {
     "data": {
      "text/plain": [
       "241-element Array{State,1}:\n",
       " State(2251, \"1518-03-27\", [0, 0, 0, 0, 0, 0, 0, 0, 0, 0  …  1, 1, 1, 1, 1, 1, 1, 0, 0, 0], 11)\n",
       " State(3319, \"1518-03-27\", [0, 0, 0, 0, 0, 0, 0, 0, 0, 0  …  0, 0, 0, 1, 0, 0, 0, 0, 0, 0], 53)\n",
       " State(1777, \"1518-03-28\", [0, 0, 0, 0, 0, 0, 0, 0, 1, 1  …  1, 1, 1, 1, 1, 0, 0, 0, 0, 0], 20)\n",
       " State(3347, \"1518-03-30\", [0, 0, 0, 0, 0, 0, 0, 0, 0, 0  …  0, 0, 0, 0, 0, 0, 1, 0, 0, 0], 56)\n",
       " State(103, \"1518-03-31\", [0, 0, 0, 0, 0, 0, 0, 0, 0, 0  …  0, 0, 0, 0, 1, 1, 1, 0, 0, 0], 54) \n",
       " State(3371, \"1518-04-01\", [0, 0, 0, 0, 0, 0, 0, 0, 0, 0  …  0, 1, 1, 1, 0, 0, 0, 0, 0, 0], 51)\n",
       " State(1777, \"1518-04-02\", [0, 0, 0, 0, 0, 0, 0, 0, 1, 1  …  0, 0, 0, 0, 0, 0, 0, 0, 0, 0], 8) \n",
       " State(1777, \"1518-04-02\", [0, 0, 1, 1, 1, 1, 1, 1, 1, 1  …  0, 0, 0, 0, 0, 0, 0, 0, 0, 0], 2) \n",
       " State(1777, \"1518-04-04\", [0, 0, 0, 0, 0, 0, 0, 0, 0, 0  …  1, 1, 1, 1, 1, 0, 0, 0, 0, 0], 50)\n",
       " State(2389, \"1518-04-04\", [1, 1, 1, 1, 1, 1, 1, 1, 1, 1  …  1, 1, 1, 1, 1, 1, 1, 1, 1, 0], 0) \n",
       " State(2251, \"1518-04-05\", [0, 0, 0, 0, 0, 0, 0, 0, 0, 0  …  0, 0, 0, 0, 0, 0, 0, 0, 0, 0], 21)\n",
       " State(2137, \"1518-04-06\", [0, 0, 0, 0, 0, 0, 0, 0, 0, 0  …  1, 1, 1, 1, 1, 1, 1, 0, 0, 0], 45)\n",
       " State(1889, \"1518-04-08\", [0, 0, 0, 0, 0, 0, 0, 0, 0, 0  …  0, 0, 0, 0, 0, 0, 0, 0, 0, 0], 16)\n",
       " ⋮                                                                                             \n",
       " State(439, \"1518-11-10\", [0, 0, 0, 0, 0, 0, 0, 0, 0, 0  …  0, 0, 0, 0, 0, 0, 0, 0, 0, 0], 33) \n",
       " State(103, \"1518-11-11\", [0, 1, 1, 1, 1, 1, 1, 1, 1, 1  …  0, 0, 0, 0, 0, 0, 1, 1, 1, 0], 56) \n",
       " State(1889, \"1518-11-12\", [0, 0, 0, 0, 0, 0, 0, 0, 0, 0  …  0, 0, 0, 0, 0, 0, 0, 0, 0, 0], 31)\n",
       " State(2129, \"1518-11-14\", [0, 0, 0, 0, 0, 0, 0, 0, 0, 0  …  0, 0, 0, 0, 0, 0, 0, 0, 0, 0], 42)\n",
       " State(2903, \"1518-11-14\", [0, 0, 0, 0, 1, 1, 1, 1, 1, 1  …  0, 0, 0, 0, 0, 0, 0, 0, 0, 0], 4) \n",
       " State(241, \"1518-11-16\", [0, 0, 0, 0, 0, 0, 1, 1, 1, 1  …  1, 1, 1, 1, 1, 1, 1, 0, 0, 0], 47) \n",
       " State(1889, \"1518-11-17\", [0, 0, 0, 0, 0, 0, 0, 0, 0, 0  …  0, 0, 0, 0, 0, 0, 0, 0, 0, 0], 31)\n",
       " State(2137, \"1518-11-18\", [0, 0, 0, 0, 0, 0, 0, 0, 0, 0  …  1, 1, 1, 1, 1, 1, 1, 1, 1, 0], 49)\n",
       " State(439, \"1518-11-18\", [0, 0, 0, 0, 0, 0, 0, 0, 0, 0  …  1, 1, 1, 1, 1, 0, 0, 0, 0, 0], 19) \n",
       " State(2129, \"1518-11-20\", [0, 0, 0, 0, 0, 0, 0, 0, 0, 0  …  0, 1, 1, 1, 1, 1, 1, 0, 0, 0], 51)\n",
       " State(1283, \"1518-11-20\", [0, 0, 0, 0, 0, 0, 0, 0, 0, 0  …  0, 0, 0, 0, 0, 0, 0, 0, 0, 0], 22)\n",
       " State(3347, \"1518-11-22\", [0, 0, 0, 0, 0, 0, 0, 0, 0, 0  …  0, 0, 0, 0, 0, 0, 0, 0, 0, 0], 36)"
      ]
     },
     "execution_count": 87,
     "metadata": {},
     "output_type": "execute_result"
    }
   ],
   "source": [
    "# parse into a data frame\n",
    "# id, date, start time, end time, bitmask (00 - 59)\n",
    "using DataFrames\n",
    "using DataFramesMeta\n",
    "\n",
    "mutable struct State\n",
    "    id::Int\n",
    "    dt::String\n",
    "    asleep::Vector{Int}\n",
    "    laststart::Int\n",
    "end\n",
    "\n",
    "function parse_line!(s::String, state::Union{Nothing,State}, table::Vector{State})\n",
    "    minute = parse(Int, s[16:17])\n",
    "    if match(r\"Guard\", s) != nothing \n",
    "        id = parse(Int, s[27:30])\n",
    "        dt = s[2:2+10-1]\n",
    "        if state != nothing\n",
    "            push!(table, state)\n",
    "        end\n",
    "        st =  State(id, dt, fill(0, 60), 0)  # start new state\n",
    "        return st\n",
    "    elseif match(r\"falls\", s) != nothing\n",
    "        state.laststart = minute\n",
    "        return state\n",
    "    elseif match(r\"wakes\", s) != nothing\n",
    "        for i in state.laststart:minute-1\n",
    "            state.asleep[i+1] = 1\n",
    "        end\n",
    "        return state\n",
    "    else\n",
    "        error(\"bad line: $s\")\n",
    "    end\n",
    "    println(\"what?\")\n",
    "end\n",
    "\n",
    "function parse_everything(input)\n",
    "    df = Vector{State}()\n",
    "    state = nothing\n",
    "    for s in input\n",
    "        state = parse_line!(s, state, df)\n",
    "    end\n",
    "    df\n",
    "end\n",
    "\n",
    "df = parse_everything(input)"
   ]
  },
  {
   "cell_type": "code",
   "execution_count": 92,
   "metadata": {},
   "outputs": [
    {
     "data": {
      "text/html": [
       "<table class=\"data-frame\"><thead><tr><th></th><th>id</th><th>minutes</th><th>asleep</th></tr><tr><th></th><th>Int64</th><th>Int64</th><th>Array…</th></tr></thead><tbody><tr><th>1</th><td>2251</td><td>46</td><td>[0, 0, 0, 0, 0, 0, 0, 0, 0, 0, 0, 1, 1, 1, 1, 1, 1, 1, 1, 1, 1, 1, 1, 1, 1, 1, 1, 1, 1, 1, 1, 1, 1, 1, 1, 1, 1, 1, 1, 1, 1, 1, 1, 1, 1, 1, 1, 1, 1, 1, 1, 1, 1, 1, 1, 1, 1, 0, 0, 0]</td></tr><tr><th>2</th><td>3319</td><td>18</td><td>[0, 0, 0, 0, 0, 0, 0, 0, 0, 0, 0, 0, 0, 0, 0, 0, 1, 1, 1, 1, 1, 1, 1, 1, 1, 1, 1, 1, 1, 1, 1, 1, 1, 0, 0, 0, 0, 0, 0, 0, 0, 0, 0, 0, 0, 0, 0, 0, 0, 0, 0, 0, 0, 1, 0, 0, 0, 0, 0, 0]</td></tr><tr><th>3</th><td>1777</td><td>37</td><td>[0, 0, 0, 0, 0, 0, 0, 0, 1, 1, 0, 0, 0, 0, 0, 0, 0, 0, 0, 0, 1, 1, 1, 1, 1, 1, 1, 1, 1, 1, 1, 1, 1, 1, 1, 1, 1, 1, 1, 1, 1, 1, 1, 1, 1, 1, 1, 1, 1, 1, 1, 1, 1, 1, 1, 0, 0, 0, 0, 0]</td></tr><tr><th>4</th><td>3347</td><td>1</td><td>[0, 0, 0, 0, 0, 0, 0, 0, 0, 0, 0, 0, 0, 0, 0, 0, 0, 0, 0, 0, 0, 0, 0, 0, 0, 0, 0, 0, 0, 0, 0, 0, 0, 0, 0, 0, 0, 0, 0, 0, 0, 0, 0, 0, 0, 0, 0, 0, 0, 0, 0, 0, 0, 0, 0, 0, 1, 0, 0, 0]</td></tr><tr><th>5</th><td>103</td><td>27</td><td>[0, 0, 0, 0, 0, 0, 0, 0, 0, 0, 0, 0, 0, 0, 0, 0, 0, 0, 0, 0, 0, 1, 1, 1, 0, 0, 0, 0, 0, 1, 1, 1, 1, 1, 1, 1, 1, 1, 1, 1, 1, 1, 1, 1, 1, 1, 1, 1, 1, 1, 0, 0, 0, 0, 1, 1, 1, 0, 0, 0]</td></tr></tbody></table>"
      ],
      "text/plain": [
       "5×3 DataFrame. Omitted printing of 1 columns\n",
       "│ Row │ id    │ minutes │\n",
       "│     │ \u001b[90mInt64\u001b[39m │ \u001b[90mInt64\u001b[39m   │\n",
       "├─────┼───────┼─────────┤\n",
       "│ 1   │ 2251  │ 46      │\n",
       "│ 2   │ 3319  │ 18      │\n",
       "│ 3   │ 1777  │ 37      │\n",
       "│ 4   │ 3347  │ 1       │\n",
       "│ 5   │ 103   │ 27      │"
      ]
     },
     "execution_count": 92,
     "metadata": {},
     "output_type": "execute_result"
    }
   ],
   "source": [
    "guard_stats = DataFrame(\n",
    "    id = [x.id for x in df],\n",
    "    minutes = [sum(x.asleep) for x in df],\n",
    "    asleep = [x.asleep for x in df]\n",
    ")\n",
    "guard_stats[1:5,:]  #debug"
   ]
  },
  {
   "cell_type": "code",
   "execution_count": 108,
   "metadata": {},
   "outputs": [
    {
     "data": {
      "text/plain": [
       "(id = 1777, minutes = 407)"
      ]
     },
     "execution_count": 108,
     "metadata": {},
     "output_type": "execute_result"
    }
   ],
   "source": [
    "# who sleeps the most across all days?\n",
    "function sleepiest(guard_stats)\n",
    "    top = @linq guard_stats |>\n",
    "      by(:id, minutes = sum(:minutes)) |>\n",
    "      orderby(-:minutes) \n",
    "    (id = top[1,:id], minutes = top[1, :minutes])\n",
    "end\n",
    "sleepiest(guard_stats)  #debug"
   ]
  },
  {
   "cell_type": "code",
   "execution_count": 111,
   "metadata": {},
   "outputs": [
    {
     "data": {
      "text/plain": [
       "48"
      ]
     },
     "execution_count": 111,
     "metadata": {},
     "output_type": "execute_result"
    }
   ],
   "source": [
    "function sleepiest_minute(id, guard_stats)\n",
    "    st = @linq guard_stats |> where(:id .== id)\n",
    "    mat = vcat([d' for d in st.asleep]...)\n",
    "    r = DataFrame(minute=0:59, elapsed=[sum(mat[:, c]) for c in 1:60])\n",
    "    worst = @linq r |> orderby(-:elapsed)\n",
    "    worst[1, :minute]\n",
    "end\n",
    "sleepiest_minute(1777, guard_stats)  #debug"
   ]
  },
  {
   "cell_type": "code",
   "execution_count": 112,
   "metadata": {},
   "outputs": [
    {
     "data": {
      "text/plain": [
       "85296"
      ]
     },
     "execution_count": 112,
     "metadata": {},
     "output_type": "execute_result"
    }
   ],
   "source": [
    "# part 1\n",
    "let id = sleepiest(guard_stats).id\n",
    "    id * sleepiest_minute(id, guard_stats)\n",
    "end"
   ]
  },
  {
   "cell_type": "code",
   "execution_count": 119,
   "metadata": {},
   "outputs": [
    {
     "data": {
      "text/plain": [
       "(id = 1889, minutes = 31, answer = 58559)"
      ]
     },
     "execution_count": 119,
     "metadata": {},
     "output_type": "execute_result"
    }
   ],
   "source": [
    "# part 2\n",
    "function stats_by_guard(id)\n",
    "    A = vcat([st.asleep' for st in filter(x -> x.id == id, df)]...)\n",
    "    x = findmax([sum(A[:,i]) for i in 1:60])\n",
    "    (id = id, days_asleep = x[1], minutes = x[2] - 1, days = size(A, 1))\n",
    "end\n",
    "\n",
    "function sleepiest_minute(guard_stats)\n",
    "    df = DataFrame([stats_by_guard(id) for id in unique(guard_stats.id)])\n",
    "    df = @linq df |> \n",
    "      orderby(-:days_asleep) |>\n",
    "      transform(answer = :id .* :minutes)\n",
    "    (id = df[1, :id], minutes = df[1, :minutes], answer = df[1, :answer])\n",
    "end\n",
    "\n",
    "sleepiest_minute(guard_stats)"
   ]
  },
  {
   "cell_type": "code",
   "execution_count": null,
   "metadata": {},
   "outputs": [],
   "source": []
  }
 ],
 "metadata": {
  "kernelspec": {
   "display_name": "Julia 1.0.1",
   "language": "julia",
   "name": "julia-1.0"
  },
  "language_info": {
   "file_extension": ".jl",
   "mimetype": "application/julia",
   "name": "julia",
   "version": "1.0.1"
  }
 },
 "nbformat": 4,
 "nbformat_minor": 2
}
