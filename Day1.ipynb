{
 "cells": [
  {
   "cell_type": "code",
   "execution_count": 5,
   "metadata": {},
   "outputs": [
    {
     "data": {
      "text/plain": [
       "1018-element Array{Int64,1}:\n",
       "     -9\n",
       "      7\n",
       "      5\n",
       "    -13\n",
       "      6\n",
       "     14\n",
       "     -5\n",
       "    -10\n",
       "    -10\n",
       "    -12\n",
       "      2\n",
       "      5\n",
       "      2\n",
       "      ⋮\n",
       "     20\n",
       "    -13\n",
       "     -5\n",
       "     -1\n",
       "    -64\n",
       "    -30\n",
       "    -11\n",
       "    -23\n",
       "    -46\n",
       "    -27\n",
       "    -11\n",
       " -75223"
      ]
     },
     "execution_count": 5,
     "metadata": {},
     "output_type": "execute_result"
    }
   ],
   "source": [
    "input = [parse(Int, s) for s in readlines(\"input1\")]"
   ]
  },
  {
   "cell_type": "code",
   "execution_count": 6,
   "metadata": {},
   "outputs": [
    {
     "data": {
      "text/plain": [
       "525"
      ]
     },
     "execution_count": 6,
     "metadata": {},
     "output_type": "execute_result"
    }
   ],
   "source": [
    "# part 1\n",
    "sum(input)"
   ]
  },
  {
   "cell_type": "code",
   "execution_count": 10,
   "metadata": {},
   "outputs": [
    {
     "name": "stdout",
     "output_type": "stream",
     "text": [
      "reachtwice([-1, 1]) = 0\n",
      "reachtwice([3, 3, 4, -2, -4]) = 10\n",
      "reachtwice([-6, 3, 8, 5, -6]) = 5\n",
      "reachtwice([7, 7, -2, -7, -4]) = 14\n",
      "reachtwice(input) = 75749\n"
     ]
    },
    {
     "data": {
      "text/plain": [
       "75749"
      ]
     },
     "execution_count": 10,
     "metadata": {},
     "output_type": "execute_result"
    }
   ],
   "source": [
    "function reachtwice(x)\n",
    "    d = Dict(0 => 1)\n",
    "    v = 0\n",
    "    while true\n",
    "        for i in x\n",
    "            v += i\n",
    "            get(d, v, 0) == 1 && return v\n",
    "            d[v] = 1\n",
    "        end\n",
    "    end\n",
    "end\n",
    "@show reachtwice([-1, 1])\n",
    "@show reachtwice([+3, +3, +4, -2, -4])\n",
    "@show reachtwice([-6, +3, +8, +5, -6])\n",
    "@show reachtwice([+7, +7, -2, -7, -4])\n",
    "@show reachtwice(input)"
   ]
  },
  {
   "cell_type": "code",
   "execution_count": null,
   "metadata": {},
   "outputs": [],
   "source": []
  }
 ],
 "metadata": {
  "kernelspec": {
   "display_name": "Julia 1.0.1",
   "language": "julia",
   "name": "julia-1.0"
  },
  "language_info": {
   "file_extension": ".jl",
   "mimetype": "application/julia",
   "name": "julia",
   "version": "1.0.1"
  }
 },
 "nbformat": 4,
 "nbformat_minor": 2
}
