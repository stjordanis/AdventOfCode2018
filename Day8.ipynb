{
 "cells": [
  {
   "cell_type": "markdown",
   "metadata": {},
   "source": [
    "## Advent of Code - Dec 8\n",
    "\n",
    "Reference: https://adventofcode.com/2018/day/8"
   ]
  },
  {
   "cell_type": "code",
   "execution_count": 1,
   "metadata": {},
   "outputs": [],
   "source": [
    "struct Node\n",
    "    children::Vector{Node}\n",
    "    meta::Vector{Int}\n",
    "end"
   ]
  },
  {
   "cell_type": "code",
   "execution_count": 2,
   "metadata": {},
   "outputs": [
    {
     "data": {
      "text/plain": [
       "41454"
      ]
     },
     "execution_count": 2,
     "metadata": {},
     "output_type": "execute_result"
    }
   ],
   "source": [
    "# Build tree: `state` is mutated\n",
    "function mytree!(state)\n",
    "    n = Node(Node[], Int[])\n",
    "    num_children = pop!(state)\n",
    "    num_meta = pop!(state)\n",
    "    if num_children > 0\n",
    "        for i in 1:num_children\n",
    "            push!(n.children, mytree!(state))\n",
    "        end\n",
    "    end\n",
    "    if num_meta > 0\n",
    "        for i in 1:num_meta\n",
    "            push!(n.meta, pop!(state))\n",
    "        end\n",
    "    end\n",
    "    return n\n",
    "end\n",
    "\n",
    "function sum_of_meta(n::Node)\n",
    "    sum(n.meta) + sum(Int[sum_of_meta(t) for t in n.children])\n",
    "end\n",
    "\n",
    "# unit test\n",
    "# data = parse.(Int, split(\"2 3 0 3 10 11 12 1 1 0 1 99 2 1 1 2\", \" \"))\n",
    "# @show parsed_tree = mytree!(data, reverse(data), 0)\n",
    "# sum_of_meta(parsed_tree)\n",
    "\n",
    "# part 1\n",
    "data = parse.(Int, split(readline(\"input8\"), \" \"))\n",
    "parsed_tree = mytree!(reverse(data))\n",
    "sum_of_meta(parsed_tree)"
   ]
  },
  {
   "cell_type": "code",
   "execution_count": 3,
   "metadata": {},
   "outputs": [
    {
     "data": {
      "text/plain": [
       "25752"
      ]
     },
     "execution_count": 3,
     "metadata": {},
     "output_type": "execute_result"
    }
   ],
   "source": [
    "function value(n::Node)\n",
    "    if length(n.children) == 0\n",
    "        sum(n.meta)\n",
    "    else\n",
    "        sum([value(n.children[k]) for k in n.meta \n",
    "                    if 1 <= k <= length(n.children)])\n",
    "    end\n",
    "end\n",
    "\n",
    "# unit test\n",
    "# data = parse.(Int, split(\"2 3 0 3 10 11 12 1 1 0 1 99 2 1 1 2\", \" \"))\n",
    "# parsed_tree = mytree!(data, reverse(data), 0)\n",
    "# value(parsed_tree)\n",
    "                    \n",
    "data = parse.(Int, split(readline(\"input8\"), \" \"))\n",
    "parsed_tree = mytree!(reverse(data))\n",
    "value(parsed_tree)"
   ]
  }
 ],
 "metadata": {
  "kernelspec": {
   "display_name": "Julia 1.0.1",
   "language": "julia",
   "name": "julia-1.0"
  },
  "language_info": {
   "file_extension": ".jl",
   "mimetype": "application/julia",
   "name": "julia",
   "version": "1.0.1"
  }
 },
 "nbformat": 4,
 "nbformat_minor": 2
}
