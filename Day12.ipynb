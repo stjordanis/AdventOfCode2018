{
 "cells": [
  {
   "cell_type": "markdown",
   "metadata": {},
   "source": [
    "https://adventofcode.com/2018/day/12"
   ]
  },
  {
   "cell_type": "code",
   "execution_count": 1,
   "metadata": {},
   "outputs": [
    {
     "name": "stdout",
     "output_type": "stream",
     "text": [
      "play1(state_txt, notes, 20) = 325\n",
      "  0.389085 seconds (511.07 k allocations: 25.199 MiB, 2.85% gc time)\n",
      "play1(state_txt, notes, 20) = 1623\n",
      "  0.004019 seconds (39.62 k allocations: 1.695 MiB)\n",
      "play1(state_txt, notes, 200) = 2091\n",
      "  0.037164 seconds (405.79 k allocations: 17.449 MiB, 28.07% gc time)\n",
      "play1(state_txt, notes, 300) = 0\n",
      "  0.052876 seconds (586.68 k allocations: 25.220 MiB, 11.49% gc time)\n"
     ]
    }
   ],
   "source": [
    "# part 1\n",
    "function play1(state, notes, N; padding = 100)\n",
    "    P = repeat(\".\", padding)\n",
    "    S = P * state * P\n",
    "    for i in 1:N\n",
    "        V = fill(\"\", length(S)-4)   #less 4\n",
    "        for i in 1:length(S)-4\n",
    "            k = S[i:i+4]\n",
    "            V[i] = k ∈ keys(notes) ? notes[k] : \".\"\n",
    "        end\n",
    "        S = \"..\" * join(V) * \"..\"\n",
    "#         println(S)\n",
    "    end\n",
    "    L = length(state)\n",
    "    Q = collect(-padding:L+padding-1)\n",
    "    B = [x == '#' for x in S]\n",
    "#     return (S, Q[B], sum(Q[B]))\n",
    "    sum(Q[B])\n",
    "end\n",
    "\n",
    "# sample\n",
    "state_txt = \"#..#.#..##......###...###\"\n",
    "notes_txt = \"\"\"\n",
    "...## => #\n",
    "..#.. => #\n",
    ".#... => #\n",
    ".#.#. => #\n",
    ".#.## => #\n",
    ".##.. => #\n",
    ".#### => #\n",
    "#.#.# => #\n",
    "#.### => #\n",
    "##.#. => #\n",
    "##.## => #\n",
    "###.. => #\n",
    "###.# => #\n",
    "####. => #\"\"\"\n",
    "notes = Dict(x[1] => x[2] for x in split.(split(notes_txt, \"\\n\"), \" => \"))\n",
    "@time @show play1(state_txt, notes, 20)\n",
    "\n",
    "state_txt = \"##.####..####...#.####..##.#..##..#####.##.#..#...#.###.###....####.###...##..#...##.#.#...##.##..\"\n",
    "notes_txt = \"\"\"\n",
    "##.## => #\n",
    "....# => .\n",
    ".#.#. => #\n",
    "..### => .\n",
    "##... => #\n",
    "##### => .\n",
    "###.# => #\n",
    ".##.. => .\n",
    "..##. => .\n",
    "...## => #\n",
    "####. => .\n",
    "###.. => .\n",
    ".#### => #\n",
    "#...# => #\n",
    "..... => .\n",
    "..#.. => .\n",
    "#..## => .\n",
    "#.#.# => #\n",
    ".#.## => #\n",
    ".###. => .\n",
    "##..# => .\n",
    ".#... => #\n",
    ".#..# => #\n",
    "...#. => .\n",
    "#.#.. => .\n",
    "#.... => .\n",
    "##.#. => .\n",
    "#.### => .\n",
    ".##.# => .\n",
    "#..#. => #\n",
    "..#.# => .\n",
    "#.##. => #\"\"\"\n",
    "notes = Dict(x[1] => x[2] for x in split.(split(notes_txt, \"\\n\"), \" => \"))\n",
    "@time @show play1(state_txt, notes, 20)\n",
    "# @time @show play(state_txt, notes, 100)\n",
    "\n",
    "# BUG - not working with higher number of generations...\n",
    "@time @show play1(state_txt, notes, 200)\n",
    "@time @show play1(state_txt, notes, 300)\n",
    "\n",
    "# @time for i in 100:100:2000\n",
    "#     println(play(state_txt, notes, i))\n",
    "# end\n",
    ";"
   ]
  },
  {
   "cell_type": "code",
   "execution_count": 2,
   "metadata": {},
   "outputs": [
    {
     "data": {
      "text/plain": [
       "play2 (generic function with 1 method)"
      ]
     },
     "execution_count": 2,
     "metadata": {},
     "output_type": "execute_result"
    }
   ],
   "source": [
    "const empty_bool_array = Bool[]\n",
    "\n",
    "function ensure_padding(state::Vector{Bool}, result::Vector{Bool}, origin::Int)\n",
    "    padding = 5\n",
    "    \n",
    "    true1 = findmax(state)[2]\n",
    "    add1 = padding - true1 + 1\n",
    "    L = add1 > 0 ? [false for _ in 1:add1] : empty_bool_array\n",
    "    origin = add1 > 0 ? origin - add1 : origin\n",
    "\n",
    "    true2 = findmax(reverse(state))[2]\n",
    "    add2 = padding - true2 + 1\n",
    "    R = add2 > 0 ? [false for _ in 1:add2] : empty_bool_array\n",
    "\n",
    "    if add1 > 0 || add2 > 0\n",
    "        new_state = [L; state ; R]\n",
    "        new_result = [false for _ in 1:length(new_state)]\n",
    "#         visualize(new_state)\n",
    "        return new_state, new_result, origin\n",
    "    else\n",
    "        return state, result, origin\n",
    "    end\n",
    "end\n",
    "\n",
    "function generate!(state::Vector{Bool}, result::Vector{Bool}, notes::Dict{Vector{Bool},Bool})\n",
    "    for i in 1:length(state)-4\n",
    "        k = state[i:i+4]\n",
    "        result[i+2] = k ∈ keys(notes) ? notes[k] : false\n",
    "    end\n",
    "end\n",
    "\n",
    "function visualize(state::Vector{Bool})\n",
    "    println(join([b ? \"#\" : \".\" for b in state]))\n",
    "end\n",
    "\n",
    "function play2(state::Vector{Bool}, notes::Dict{Vector{Bool},Bool}, iterations::Int)\n",
    "    result = Bool[false for _ in 1:length(state)]\n",
    "    origin = 0\n",
    "#     visualize(state)\n",
    "    for i in 1:iterations\n",
    "        state, result, origin = ensure_padding(state, result, origin)\n",
    "        generate!(state, result, notes)\n",
    "        state[:] = result[:]\n",
    "#         visualize(state)\n",
    "    end\n",
    "    pot_range = collect(0:length(state)-1) .+ origin\n",
    "    return pot_range[state], sum(pot_range[state])\n",
    "end"
   ]
  },
  {
   "cell_type": "code",
   "execution_count": 3,
   "metadata": {},
   "outputs": [
    {
     "name": "stdout",
     "output_type": "stream",
     "text": [
      "play2(state, notes, 20) = ([6, 7, 10, 11, 13, 17, 24, 28, 35, 36, 38, 41, 44, 45, 48, 50, 53, 57, 64, 68, 75, 82, 83, 86, 88, 93, 98, 103, 105, 115], 1623)\n",
      "i = 100, sum = 3592\n",
      "i = 200, sum = 6801\n",
      "i = 300, sum = 10001\n",
      "i = 400, sum = 13201\n",
      "i = 500, sum = 16401\n",
      "i = 600, sum = 19601\n",
      "i = 700, sum = 22801\n",
      "i = 800, sum = 26001\n",
      "i = 900, sum = 29201\n",
      "i = 1000, sum = 32401\n",
      "i = 1100, sum = 35601\n",
      "i = 1200, sum = 38801\n",
      "i = 1300, sum = 42001\n",
      "i = 1400, sum = 45201\n",
      "i = 1500, sum = 48401\n",
      "i = 1600, sum = 51601\n",
      "i = 1700, sum = 54801\n",
      "i = 1800, sum = 58001\n",
      "i = 1900, sum = 61201\n",
      "i = 2000, sum = 64401\n"
     ]
    }
   ],
   "source": [
    "state_txt = \"##.####..####...#.####..##.#..##..#####.##.#..#...#.###.###....####.###...##..#...##.#.#...##.##..\"\n",
    "notes_txt = \"\"\"\n",
    "##.## => #\n",
    "....# => .\n",
    ".#.#. => #\n",
    "..### => .\n",
    "##... => #\n",
    "##### => .\n",
    "###.# => #\n",
    ".##.. => .\n",
    "..##. => .\n",
    "...## => #\n",
    "####. => .\n",
    "###.. => .\n",
    ".#### => #\n",
    "#...# => #\n",
    "..... => .\n",
    "..#.. => .\n",
    "#..## => .\n",
    "#.#.# => #\n",
    ".#.## => #\n",
    ".###. => .\n",
    "##..# => .\n",
    ".#... => #\n",
    ".#..# => #\n",
    "...#. => .\n",
    "#.#.. => .\n",
    "#.... => .\n",
    "##.#. => .\n",
    "#.### => .\n",
    ".##.# => .\n",
    "#..#. => #\n",
    "..#.# => .\n",
    "#.##. => #\"\"\"\n",
    "parse_pattern(s) = [x == '#' for x in s]\n",
    "parse_result(s) = s == \"#\"\n",
    "state = parse_pattern(state_txt)\n",
    "notes = Dict(parse_pattern(x[1]) => parse_result(x[2]) for x in split.(split(notes_txt, \"\\n\"), \" => \"))\n",
    "@show play2(state, notes, 20)\n",
    "\n",
    "# look for patterns\n",
    "for i in 100:100:2000\n",
    "    r = play2(state, notes, i)\n",
    "    println(\"i = \", i, \", sum = \", r[2])\n",
    "end"
   ]
  },
  {
   "cell_type": "code",
   "execution_count": 4,
   "metadata": {},
   "outputs": [
    {
     "data": {
      "text/plain": [
       "32.0"
      ]
     },
     "execution_count": 4,
     "metadata": {},
     "output_type": "execute_result"
    }
   ],
   "source": [
    "# it seems to be linear.... calculate slope!\n",
    "(64401 - 61201) / (2000 - 1900)"
   ]
  },
  {
   "cell_type": "code",
   "execution_count": 5,
   "metadata": {},
   "outputs": [
    {
     "data": {
      "text/plain": [
       "401"
      ]
     },
     "execution_count": 5,
     "metadata": {},
     "output_type": "execute_result"
    }
   ],
   "source": [
    "# y = 32x + b\n",
    "# solve: b = y - 32x\n",
    "64401 - 32 * 2000"
   ]
  },
  {
   "cell_type": "code",
   "execution_count": 6,
   "metadata": {},
   "outputs": [
    {
     "data": {
      "text/plain": [
       "51601"
      ]
     },
     "execution_count": 6,
     "metadata": {},
     "output_type": "execute_result"
    }
   ],
   "source": [
    "# check\n",
    "32 * 1600 + 401"
   ]
  },
  {
   "cell_type": "code",
   "execution_count": 7,
   "metadata": {},
   "outputs": [
    {
     "data": {
      "text/plain": [
       "1600000000401"
      ]
     },
     "execution_count": 7,
     "metadata": {},
     "output_type": "execute_result"
    }
   ],
   "source": [
    "32 * 50_000_000_000 + 401"
   ]
  }
 ],
 "metadata": {
  "kernelspec": {
   "display_name": "Julia 1.0.1",
   "language": "julia",
   "name": "julia-1.0"
  },
  "language_info": {
   "file_extension": ".jl",
   "mimetype": "application/julia",
   "name": "julia",
   "version": "1.0.1"
  }
 },
 "nbformat": 4,
 "nbformat_minor": 2
}
